{
 "cells": [
  {
   "cell_type": "code",
   "execution_count": 1,
   "id": "041423d8-044f-40b5-b899-18a5b39fe3f8",
   "metadata": {},
   "outputs": [
    {
     "data": {
      "text/plain": [
       "389538"
      ]
     },
     "execution_count": 1,
     "metadata": {},
     "output_type": "execute_result"
    }
   ],
   "source": [
    "6834*57"
   ]
  },
  {
   "cell_type": "code",
   "execution_count": 2,
   "id": "6a4d2fde-0101-48c4-a07f-52bfdb4fd052",
   "metadata": {},
   "outputs": [
    {
     "data": {
      "text/plain": [
       "119.89473684210526"
      ]
     },
     "execution_count": 2,
     "metadata": {},
     "output_type": "execute_result"
    }
   ],
   "source": [
    "6834/57"
   ]
  },
  {
   "cell_type": "markdown",
   "id": "33a06242-29d9-4ad8-937b-8e655cb014c3",
   "metadata": {},
   "source": [
    "### *Quotient remainder calculation*"
   ]
  },
  {
   "cell_type": "code",
   "execution_count": 1,
   "id": "62f6385c-a2f1-4f91-8c06-768137b40319",
   "metadata": {},
   "outputs": [
    {
     "data": {
      "text/plain": [
       "119"
      ]
     },
     "execution_count": 1,
     "metadata": {},
     "output_type": "execute_result"
    }
   ],
   "source": [
    "6834//57 ## returns quotient"
   ]
  },
  {
   "cell_type": "code",
   "execution_count": 4,
   "id": "920bfeca-a57f-450a-8107-4ed522ccf252",
   "metadata": {},
   "outputs": [
    {
     "data": {
      "text/plain": [
       "51"
      ]
     },
     "execution_count": 4,
     "metadata": {},
     "output_type": "execute_result"
    }
   ],
   "source": [
    "6834%57 ## returns the remainder"
   ]
  },
  {
   "cell_type": "code",
   "execution_count": 5,
   "id": "901b5656-8dc5-44ee-aa08-06e98594ccee",
   "metadata": {},
   "outputs": [],
   "source": [
    "a = 6834\n",
    "b = 57"
   ]
  },
  {
   "cell_type": "code",
   "execution_count": 6,
   "id": "7317a47a-0673-46ad-81b1-b9e7afabe979",
   "metadata": {},
   "outputs": [
    {
     "name": "stdout",
     "output_type": "stream",
     "text": [
      "6834 57\n"
     ]
    }
   ],
   "source": [
    "print(a,b)"
   ]
  },
  {
   "cell_type": "code",
   "execution_count": 7,
   "id": "90203292-ac44-4836-8904-6f9986abbb0b",
   "metadata": {},
   "outputs": [
    {
     "name": "stdout",
     "output_type": "stream",
     "text": [
      "119 51\n"
     ]
    }
   ],
   "source": [
    "q = a//b\n",
    "r = a%b\n",
    "print(q,r)"
   ]
  },
  {
   "cell_type": "code",
   "execution_count": 8,
   "id": "533a9c9b-3e12-43c5-81f1-0e997d69b2f2",
   "metadata": {},
   "outputs": [
    {
     "data": {
      "text/plain": [
       "True"
      ]
     },
     "execution_count": 8,
     "metadata": {},
     "output_type": "execute_result"
    }
   ],
   "source": [
    "b*q+r == a"
   ]
  },
  {
   "cell_type": "code",
   "execution_count": 4,
   "id": "f6875617-5edd-4f72-851d-71333b50e955",
   "metadata": {},
   "outputs": [
    {
     "data": {
      "text/plain": [
       "729"
      ]
     },
     "execution_count": 4,
     "metadata": {},
     "output_type": "execute_result"
    }
   ],
   "source": [
    "27**2"
   ]
  },
  {
   "cell_type": "code",
   "execution_count": 5,
   "id": "06e30ef2-dbc6-49da-a267-e8f5d766ab13",
   "metadata": {},
   "outputs": [
    {
     "data": {
      "text/plain": [
       "369988485035126972924700782451696644186473100389722973815184405301748249"
      ]
     },
     "execution_count": 5,
     "metadata": {},
     "output_type": "execute_result"
    }
   ],
   "source": [
    "27**50"
   ]
  },
  {
   "cell_type": "code",
   "execution_count": 7,
   "id": "78dea91d-a2fb-4a62-8c34-6dbc96dc9e2d",
   "metadata": {},
   "outputs": [
    {
     "data": {
      "text/plain": [
       "1.0267173715056719"
      ]
     },
     "execution_count": 7,
     "metadata": {},
     "output_type": "execute_result"
    }
   ],
   "source": [
    "27**(0.008)"
   ]
  },
  {
   "cell_type": "code",
   "execution_count": 11,
   "id": "9119bfbe-93b1-4067-a0f1-b5a8ebe25f89",
   "metadata": {},
   "outputs": [
    {
     "data": {
      "text/plain": [
       "(2550.0, 2613.9200128187495)"
      ]
     },
     "execution_count": 11,
     "metadata": {},
     "output_type": "execute_result"
    }
   ],
   "source": [
    "p = 2000\n",
    "r = 5.5\n",
    "t = 5\n",
    "amount = (p*r*t)/100 +p\n",
    "amount\n",
    "amount1 = p*(1+r/100)**t\n",
    "amount,amount1"
   ]
  },
  {
   "cell_type": "code",
   "execution_count": 12,
   "id": "3a624206-53e9-4ef4-bf45-82c812dea445",
   "metadata": {},
   "outputs": [
    {
     "data": {
      "text/plain": [
       "2550.0"
      ]
     },
     "execution_count": 12,
     "metadata": {},
     "output_type": "execute_result"
    }
   ],
   "source": [
    "p = 2000\n",
    "r = 5.5\n",
    "t = 5\n",
    "amount = (p*r*t)/100 +p\n",
    "amount"
   ]
  },
  {
   "cell_type": "code",
   "execution_count": 13,
   "id": "aa1d50a7-2093-44e6-8ef2-fdfafdb5c3e6",
   "metadata": {},
   "outputs": [
    {
     "data": {
      "text/plain": [
       "2613.9200128187495"
      ]
     },
     "execution_count": 13,
     "metadata": {},
     "output_type": "execute_result"
    }
   ],
   "source": [
    "amount1 = p*(1+r/100)**t\n",
    "amount1"
   ]
  },
  {
   "cell_type": "code",
   "execution_count": 14,
   "id": "a25564c0-129d-40b8-8852-4c94735536fb",
   "metadata": {},
   "outputs": [
    {
     "data": {
      "text/plain": [
       "63.920012818749456"
      ]
     },
     "execution_count": 14,
     "metadata": {},
     "output_type": "execute_result"
    }
   ],
   "source": [
    "interset = amount1-amount\n",
    "interset"
   ]
  },
  {
   "cell_type": "markdown",
   "id": "544efadc-f3c4-4ce9-a67d-91ad938974e0",
   "metadata": {},
   "source": [
    "### *Python as an advanced calculator*"
   ]
  },
  {
   "cell_type": "markdown",
   "id": "d66e6d27-49b3-401f-b65f-01f8da23bcd3",
   "metadata": {},
   "source": [
    "In this lecture, we are going to see how we can make use of Python as an advanced scientific\n",
    "calculator. We will be making use of two built-in modules or libraries namely math module\n",
    "and cmath modules. These modules contains functions such as finding square root,\n",
    "exponential, logarithmic, trigonometrical functions, finding GCD, finding factorial functions\n",
    "and things like that."
   ]
  },
  {
   "cell_type": "code",
   "execution_count": 16,
   "id": "e638ecbf-671c-4e12-a28d-efee992fbf95",
   "metadata": {},
   "outputs": [],
   "source": [
    "import math"
   ]
  },
  {
   "cell_type": "code",
   "execution_count": 17,
   "id": "c9426a7a-f302-4d61-9a86-3ab7db33afbf",
   "metadata": {},
   "outputs": [
    {
     "data": {
      "text/plain": [
       "1.4142135623730951"
      ]
     },
     "execution_count": 17,
     "metadata": {},
     "output_type": "execute_result"
    }
   ],
   "source": [
    "math.sqrt(2)"
   ]
  },
  {
   "cell_type": "code",
   "execution_count": 18,
   "id": "e0203c53-1350-4992-a16a-ac0d6658bda2",
   "metadata": {},
   "outputs": [
    {
     "data": {
      "text/plain": [
       "0.5984721441039564"
      ]
     },
     "execution_count": 18,
     "metadata": {},
     "output_type": "execute_result"
    }
   ],
   "source": [
    "math.sin(2.5)"
   ]
  },
  {
   "cell_type": "code",
   "execution_count": 19,
   "id": "3ed3fae8-3a2c-406d-9777-bc5a627ad8ab",
   "metadata": {},
   "outputs": [
    {
     "data": {
      "text/plain": [
       "1.5707963267948966"
      ]
     },
     "execution_count": 19,
     "metadata": {},
     "output_type": "execute_result"
    }
   ],
   "source": [
    "math.asin(1)"
   ]
  },
  {
   "cell_type": "code",
   "execution_count": 20,
   "id": "4a9ad976-72cc-4512-a611-e9216ddb79a5",
   "metadata": {},
   "outputs": [
    {
     "data": {
      "text/plain": [
       "1.5707963267948966"
      ]
     },
     "execution_count": 20,
     "metadata": {},
     "output_type": "execute_result"
    }
   ],
   "source": [
    "math.pi/2"
   ]
  },
  {
   "cell_type": "code",
   "execution_count": 21,
   "id": "97278527-1d90-40ac-b9c2-2ac06085464c",
   "metadata": {},
   "outputs": [
    {
     "data": {
      "text/plain": [
       "2"
      ]
     },
     "execution_count": 21,
     "metadata": {},
     "output_type": "execute_result"
    }
   ],
   "source": [
    "math.gcd(34352,88262)"
   ]
  },
  {
   "cell_type": "code",
   "execution_count": 22,
   "id": "4e8cb403-5e8a-4a06-8e0b-18f0c5aa2cec",
   "metadata": {},
   "outputs": [
    {
     "name": "stdout",
     "output_type": "stream",
     "text": [
      "Help on built-in function log10 in module math:\n",
      "\n",
      "log10(x, /)\n",
      "    Return the base 10 logarithm of x.\n",
      "\n"
     ]
    }
   ],
   "source": [
    "help(math.log10)"
   ]
  },
  {
   "cell_type": "code",
   "execution_count": 23,
   "id": "e19fba03-09da-4588-9b55-69d72da88479",
   "metadata": {},
   "outputs": [
    {
     "data": {
      "text/plain": [
       "['__doc__',\n",
       " '__file__',\n",
       " '__loader__',\n",
       " '__name__',\n",
       " '__package__',\n",
       " '__spec__',\n",
       " 'acos',\n",
       " 'acosh',\n",
       " 'asin',\n",
       " 'asinh',\n",
       " 'atan',\n",
       " 'atan2',\n",
       " 'atanh',\n",
       " 'cbrt',\n",
       " 'ceil',\n",
       " 'comb',\n",
       " 'copysign',\n",
       " 'cos',\n",
       " 'cosh',\n",
       " 'degrees',\n",
       " 'dist',\n",
       " 'e',\n",
       " 'erf',\n",
       " 'erfc',\n",
       " 'exp',\n",
       " 'exp2',\n",
       " 'expm1',\n",
       " 'fabs',\n",
       " 'factorial',\n",
       " 'floor',\n",
       " 'fmod',\n",
       " 'frexp',\n",
       " 'fsum',\n",
       " 'gamma',\n",
       " 'gcd',\n",
       " 'hypot',\n",
       " 'inf',\n",
       " 'isclose',\n",
       " 'isfinite',\n",
       " 'isinf',\n",
       " 'isnan',\n",
       " 'isqrt',\n",
       " 'lcm',\n",
       " 'ldexp',\n",
       " 'lgamma',\n",
       " 'log',\n",
       " 'log10',\n",
       " 'log1p',\n",
       " 'log2',\n",
       " 'modf',\n",
       " 'nan',\n",
       " 'nextafter',\n",
       " 'perm',\n",
       " 'pi',\n",
       " 'pow',\n",
       " 'prod',\n",
       " 'radians',\n",
       " 'remainder',\n",
       " 'sin',\n",
       " 'sinh',\n",
       " 'sqrt',\n",
       " 'sumprod',\n",
       " 'tan',\n",
       " 'tanh',\n",
       " 'tau',\n",
       " 'trunc',\n",
       " 'ulp']"
      ]
     },
     "execution_count": 23,
     "metadata": {},
     "output_type": "execute_result"
    }
   ],
   "source": [
    "dir(math)"
   ]
  },
  {
   "cell_type": "markdown",
   "id": "0a5b7a4f-36ef-46e2-9e11-729ce79f3be1",
   "metadata": {},
   "source": [
    "### *Permutations and Combinations* "
   ]
  },
  {
   "cell_type": "code",
   "execution_count": 1,
   "id": "cc759c1b-4c21-4f33-9066-b83b6c5e4212",
   "metadata": {},
   "outputs": [],
   "source": [
    "from math import perm, comb, factorial "
   ]
  },
  {
   "cell_type": "code",
   "execution_count": 2,
   "id": "a8d3d4ba-41e2-40ce-a48e-92df122dc1ad",
   "metadata": {},
   "outputs": [
    {
     "data": {
      "text/plain": [
       "(121080960, 3003)"
      ]
     },
     "execution_count": 2,
     "metadata": {},
     "output_type": "execute_result"
    }
   ],
   "source": [
    "n = 14\n",
    "r = 8\n",
    "perm(n, r), comb(n, r)"
   ]
  },
  {
   "cell_type": "code",
   "execution_count": 9,
   "id": "0876b329-b0d1-496e-9b04-158e4bf42bf6",
   "metadata": {},
   "outputs": [
    {
     "data": {
      "text/plain": [
       "True"
      ]
     },
     "execution_count": 9,
     "metadata": {},
     "output_type": "execute_result"
    }
   ],
   "source": [
    "perm(n,r)==factorial(n)/factorial(n-r)"
   ]
  },
  {
   "cell_type": "code",
   "execution_count": 4,
   "id": "c468c978-47d1-4bff-b2af-b456374b41f2",
   "metadata": {},
   "outputs": [
    {
     "data": {
      "text/plain": [
       "True"
      ]
     },
     "execution_count": 4,
     "metadata": {},
     "output_type": "execute_result"
    }
   ],
   "source": [
    "comb(n,r)==factorial(n)/(factorial(r)*factorial(n-r))"
   ]
  },
  {
   "cell_type": "code",
   "execution_count": 5,
   "id": "396bda93-a62d-4468-ad96-fef37d6eddad",
   "metadata": {},
   "outputs": [],
   "source": [
    "from math import *"
   ]
  },
  {
   "cell_type": "code",
   "execution_count": 26,
   "id": "90c3f02e-fb39-4112-94ee-6f2a228ff7ae",
   "metadata": {},
   "outputs": [
    {
     "data": {
      "text/plain": [
       "(10+0j)"
      ]
     },
     "execution_count": 26,
     "metadata": {},
     "output_type": "execute_result"
    }
   ],
   "source": [
    "sqrt(100)"
   ]
  },
  {
   "cell_type": "code",
   "execution_count": 6,
   "id": "1cac6ca2-d689-493a-8636-d0548edc3cac",
   "metadata": {},
   "outputs": [],
   "source": [
    "from cmath import *"
   ]
  },
  {
   "cell_type": "code",
   "execution_count": 27,
   "id": "a339dd6a-0ff4-4727-b8a0-9f2c1e9bc899",
   "metadata": {},
   "outputs": [
    {
     "data": {
      "text/plain": [
       "1j"
      ]
     },
     "execution_count": 27,
     "metadata": {},
     "output_type": "execute_result"
    }
   ],
   "source": [
    "sqrt(-1)"
   ]
  },
  {
   "cell_type": "code",
   "execution_count": 7,
   "id": "59ae60b9-a2ea-42be-9bf0-addb2e6f90cf",
   "metadata": {},
   "outputs": [
    {
     "data": {
      "text/plain": [
       "(5+4j)"
      ]
     },
     "execution_count": 7,
     "metadata": {},
     "output_type": "execute_result"
    }
   ],
   "source": [
    "z=5+4j\n",
    "z"
   ]
  },
  {
   "cell_type": "code",
   "execution_count": 9,
   "id": "c1afb79a-fac3-440a-b5ed-74b69bcb4b87",
   "metadata": {},
   "outputs": [
    {
     "data": {
      "text/plain": [
       "(-97.0093146996155-112.31944914536254j)"
      ]
     },
     "execution_count": 9,
     "metadata": {},
     "output_type": "execute_result"
    }
   ],
   "source": [
    "exp(z)"
   ]
  },
  {
   "cell_type": "code",
   "execution_count": 8,
   "id": "2596e2dd-fb3c-4f8d-9081-bc82ccbece91",
   "metadata": {},
   "outputs": [
    {
     "data": {
      "text/plain": [
       "1"
      ]
     },
     "execution_count": 8,
     "metadata": {},
     "output_type": "execute_result"
    }
   ],
   "source": [
    "factorial(0)"
   ]
  },
  {
   "cell_type": "code",
   "execution_count": 10,
   "id": "5e9b0a94-2998-4f17-bee6-98ca55db59a2",
   "metadata": {},
   "outputs": [
    {
     "data": {
      "text/plain": [
       "(1.856786033352154+0.6747409422235526j)"
      ]
     },
     "execution_count": 10,
     "metadata": {},
     "output_type": "execute_result"
    }
   ],
   "source": [
    "log(z)"
   ]
  },
  {
   "cell_type": "markdown",
   "id": "75f21657-cb9c-4d2b-8cb6-ad29b5148d32",
   "metadata": {},
   "source": [
    "### *Solving a quadratic equation*"
   ]
  },
  {
   "cell_type": "code",
   "execution_count": 10,
   "id": "b8eafae2-b1e3-4be9-97e6-162bc223deca",
   "metadata": {},
   "outputs": [
    {
     "name": "stdout",
     "output_type": "stream",
     "text": [
      "the roots are (0.9067177514850918+0j) and (-2.5733844181517584+0j)\n"
     ]
    }
   ],
   "source": [
    "a, b, c = 3, 5, -7\n",
    "x1 = (-b+sqrt(b**2-4*a*c))/(2*a)\n",
    "x2 = (-b-sqrt(b**2-4*a*c))/(2*a)\n",
    "print(f'the roots are {x1} and {x2}')"
   ]
  },
  {
   "cell_type": "code",
   "execution_count": 15,
   "id": "4557149e-b68c-4a38-a0a5-abb9d54909ff",
   "metadata": {},
   "outputs": [
    {
     "name": "stdin",
     "output_type": "stream",
     "text": [
      "Enter the value of a: 5\n",
      "Enter the value of b: 4\n",
      "Enter the value of c: 4\n"
     ]
    },
    {
     "name": "stdout",
     "output_type": "stream",
     "text": [
      "the roots are (-0.4+0.8j) and (-0.4-0.8j)\n"
     ]
    }
   ],
   "source": [
    "a = float(input('Enter the value of a:'))\n",
    "b = float(input('Enter the value of b:'))\n",
    "c = float(input('Enter the value of c:'))\n",
    "x1 = (-b+sqrt(b**2-4*a*c))/(2*a)\n",
    "x2 = (-b-sqrt(b**2-4*a*c))/(2*a)\n",
    "print(f'the roots are {x1} and {x2}')"
   ]
  },
  {
   "cell_type": "code",
   "execution_count": 18,
   "id": "9fb1fcdb-903c-49f5-8ff6-e1e1e29999a2",
   "metadata": {},
   "outputs": [
    {
     "name": "stdin",
     "output_type": "stream",
     "text": [
      "Enter the side of a: 4\n",
      "Enter the side of b: 4\n",
      "Enter the side of c: 5\n"
     ]
    },
    {
     "name": "stdout",
     "output_type": "stream",
     "text": [
      "The area is given by 7.80625+0.00000j\n"
     ]
    }
   ],
   "source": [
    "a = float(input('Enter the side of a:'))\n",
    "b = float(input('Enter the side of b:'))\n",
    "c = float(input('Enter the side of c:'))\n",
    "s = (a+b+c)/2\n",
    "A = sqrt(s*(s-a)*(s-b)*(s-c))\n",
    "print(f'The area is given by {A:.5f}')"
   ]
  },
  {
   "cell_type": "code",
   "execution_count": 19,
   "id": "2c03997f-6c63-456c-8049-d125a8b86a2e",
   "metadata": {},
   "outputs": [
    {
     "data": {
      "text/plain": [
       "93326215443944152681699238856266700490715968264381621468592963895217599993229915608941463976156518286253697920827223758251185210916864000000000000000000000000"
      ]
     },
     "execution_count": 19,
     "metadata": {},
     "output_type": "execute_result"
    }
   ],
   "source": [
    "factorial(100)"
   ]
  },
  {
   "cell_type": "markdown",
   "id": "f517ecf3-e21f-42bb-97ae-514b59cda8bc",
   "metadata": {},
   "source": [
    "### **Lists in Python**"
   ]
  },
  {
   "cell_type": "code",
   "execution_count": 20,
   "id": "151f3baf-043b-4008-b246-449947125618",
   "metadata": {},
   "outputs": [],
   "source": [
    "a, b, c, d = 635, 434.7353 , \"Python\", 4+3j"
   ]
  },
  {
   "cell_type": "code",
   "execution_count": 21,
   "id": "0450bee6-9e8a-48e0-accf-d21c14a9d631",
   "metadata": {},
   "outputs": [],
   "source": [
    "x,y,z = [],(),{}"
   ]
  },
  {
   "cell_type": "code",
   "execution_count": 22,
   "id": "79fb9f1e-1bb4-41bd-89d3-57c498c9b016",
   "metadata": {},
   "outputs": [
    {
     "data": {
      "text/plain": [
       "(list, tuple, dict)"
      ]
     },
     "execution_count": 22,
     "metadata": {},
     "output_type": "execute_result"
    }
   ],
   "source": [
    "type(x), type(y), type(z)"
   ]
  },
  {
   "cell_type": "code",
   "execution_count": 23,
   "id": "09dd5731-895f-4f11-a5b6-5d5a553559ab",
   "metadata": {},
   "outputs": [],
   "source": [
    "course = \"Computational Mathematics.\""
   ]
  },
  {
   "cell_type": "code",
   "execution_count": 24,
   "id": "7c11fb26-0020-4075-9136-5afa9d8505eb",
   "metadata": {},
   "outputs": [
    {
     "data": {
      "text/plain": [
       "str"
      ]
     },
     "execution_count": 24,
     "metadata": {},
     "output_type": "execute_result"
    }
   ],
   "source": [
    "type(course)"
   ]
  },
  {
   "cell_type": "code",
   "execution_count": 25,
   "id": "ef64ef6f-03d8-40a0-9748-690bd767022b",
   "metadata": {},
   "outputs": [
    {
     "data": {
      "text/plain": [
       "26"
      ]
     },
     "execution_count": 25,
     "metadata": {},
     "output_type": "execute_result"
    }
   ],
   "source": [
    "len(course)"
   ]
  },
  {
   "cell_type": "code",
   "execution_count": 26,
   "id": "77a40017-1b9f-4c29-a100-7fd9a82caabf",
   "metadata": {},
   "outputs": [
    {
     "data": {
      "text/plain": [
       "['Computational', 'Mathematics.']"
      ]
     },
     "execution_count": 26,
     "metadata": {},
     "output_type": "execute_result"
    }
   ],
   "source": [
    "course.split()"
   ]
  },
  {
   "cell_type": "code",
   "execution_count": 27,
   "id": "b12edb42-bb1e-442b-93e5-b7445d519366",
   "metadata": {},
   "outputs": [
    {
     "data": {
      "text/plain": [
       "'computational mathematics.'"
      ]
     },
     "execution_count": 27,
     "metadata": {},
     "output_type": "execute_result"
    }
   ],
   "source": [
    "course.lower()"
   ]
  },
  {
   "cell_type": "code",
   "execution_count": 29,
   "id": "d3ccb55e-d000-4fa5-8d3f-0cdd1380a0ea",
   "metadata": {},
   "outputs": [
    {
     "data": {
      "text/plain": [
       "2"
      ]
     },
     "execution_count": 29,
     "metadata": {},
     "output_type": "execute_result"
    }
   ],
   "source": [
    "course.count(\"m\")"
   ]
  },
  {
   "cell_type": "code",
   "execution_count": null,
   "id": "bb9b4b09-8857-4359-8661-2fd002ce148f",
   "metadata": {},
   "outputs": [],
   "source": [
    "print(list(course))"
   ]
  },
  {
   "cell_type": "code",
   "execution_count": null,
   "id": "d7ae9ec3-bd46-4f0c-aad9-9e67695801ef",
   "metadata": {},
   "outputs": [],
   "source": [
    "course+' '+course"
   ]
  },
  {
   "cell_type": "code",
   "execution_count": 31,
   "id": "735ff7ef-269d-4168-b56c-86338ac5cfe0",
   "metadata": {},
   "outputs": [],
   "source": [
    "L = [2,3,5,10,12,17,19,23,29]"
   ]
  },
  {
   "cell_type": "code",
   "execution_count": 32,
   "id": "1fb43159-bc75-410b-98c2-705478de6e10",
   "metadata": {},
   "outputs": [
    {
     "data": {
      "text/plain": [
       "list[[2, 3, 5, 10, 12, 17, 19, 23, 29]]"
      ]
     },
     "execution_count": 32,
     "metadata": {},
     "output_type": "execute_result"
    }
   ],
   "source": [
    "list[L]"
   ]
  },
  {
   "cell_type": "code",
   "execution_count": 33,
   "id": "3c166066-f11c-4d1b-bbd1-693979d105f3",
   "metadata": {},
   "outputs": [
    {
     "data": {
      "text/plain": [
       "9"
      ]
     },
     "execution_count": 33,
     "metadata": {},
     "output_type": "execute_result"
    }
   ],
   "source": [
    "len(L)"
   ]
  },
  {
   "cell_type": "code",
   "execution_count": 35,
   "id": "837d6ed8-c53f-487a-9d84-2d21f5ec0de6",
   "metadata": {},
   "outputs": [
    {
     "data": {
      "text/plain": [
       "12"
      ]
     },
     "execution_count": 35,
     "metadata": {},
     "output_type": "execute_result"
    }
   ],
   "source": [
    "L[4]"
   ]
  },
  {
   "cell_type": "code",
   "execution_count": 36,
   "id": "ebff0b7a-7a25-49b1-9be8-418196156c80",
   "metadata": {},
   "outputs": [
    {
     "data": {
      "text/plain": [
       "[10, 12]"
      ]
     },
     "execution_count": 36,
     "metadata": {},
     "output_type": "execute_result"
    }
   ],
   "source": [
    "L[3:5]"
   ]
  },
  {
   "cell_type": "code",
   "execution_count": 40,
   "id": "faf65843-8a3c-4a7b-be0e-13776e5a4fa1",
   "metadata": {},
   "outputs": [
    {
     "data": {
      "text/plain": [
       "[5, 10, 12]"
      ]
     },
     "execution_count": 40,
     "metadata": {},
     "output_type": "execute_result"
    }
   ],
   "source": [
    "L[2:5]"
   ]
  },
  {
   "cell_type": "code",
   "execution_count": 43,
   "id": "c0760c57-0afc-49fa-9616-522eedcf0d5d",
   "metadata": {},
   "outputs": [
    {
     "data": {
      "text/plain": [
       "[2, 3, 5, 10, 12, 17, 19, 23, 29, 29, 19, 21]"
      ]
     },
     "execution_count": 43,
     "metadata": {},
     "output_type": "execute_result"
    }
   ],
   "source": [
    "L.append(21)\n",
    "L"
   ]
  },
  {
   "cell_type": "code",
   "execution_count": 44,
   "id": "133a459d-62be-4397-961b-11e1e99b5f03",
   "metadata": {},
   "outputs": [
    {
     "data": {
      "text/plain": [
       "[2, 3, 5, 10, 12, 100, 17, 19, 23, 29, 29, 19, 21]"
      ]
     },
     "execution_count": 44,
     "metadata": {},
     "output_type": "execute_result"
    }
   ],
   "source": [
    "L.insert(5,100)\n",
    "L"
   ]
  },
  {
   "cell_type": "code",
   "execution_count": 45,
   "id": "5d333c0e-4fd9-49c9-8fbf-1b4dd9355e5e",
   "metadata": {},
   "outputs": [
    {
     "data": {
      "text/plain": [
       "9"
      ]
     },
     "execution_count": 45,
     "metadata": {},
     "output_type": "execute_result"
    }
   ],
   "source": [
    "L.index(29)"
   ]
  },
  {
   "cell_type": "code",
   "execution_count": 46,
   "id": "c10604e0-f17c-4bb7-be82-cb725b8e4ef5",
   "metadata": {},
   "outputs": [
    {
     "data": {
      "text/plain": [
       "[2, 3, 5, 10, 12, 17, 19, 23, 29, 29, 19, 21]"
      ]
     },
     "execution_count": 46,
     "metadata": {},
     "output_type": "execute_result"
    }
   ],
   "source": [
    "L.remove(100)\n",
    "L"
   ]
  },
  {
   "cell_type": "code",
   "execution_count": 47,
   "id": "e6980ec7-b73e-4521-bfd2-8c695e6c707f",
   "metadata": {},
   "outputs": [],
   "source": [
    "M = [37,41,43,53]"
   ]
  },
  {
   "cell_type": "code",
   "execution_count": 48,
   "id": "50b389f1-9de8-47e8-8b10-509b0453a4d9",
   "metadata": {},
   "outputs": [
    {
     "data": {
      "text/plain": [
       "[2, 3, 5, 10, 12, 17, 19, 23, 29, 29, 19, 21, 37, 41, 43, 53]"
      ]
     },
     "execution_count": 48,
     "metadata": {},
     "output_type": "execute_result"
    }
   ],
   "source": [
    "L+M"
   ]
  },
  {
   "cell_type": "code",
   "execution_count": 49,
   "id": "3b406850-a136-4d82-8a40-c49b056ce987",
   "metadata": {},
   "outputs": [
    {
     "data": {
      "text/plain": [
       "2"
      ]
     },
     "execution_count": 49,
     "metadata": {},
     "output_type": "execute_result"
    }
   ],
   "source": [
    "# list of list\n",
    "A= [[1,2,3],[4,5,6],[7,8,9]]\n",
    "A[0][1]"
   ]
  },
  {
   "cell_type": "code",
   "execution_count": 50,
   "id": "3f28f5e4-2a10-4273-b778-7e4855e5a8c7",
   "metadata": {},
   "outputs": [
    {
     "data": {
      "text/plain": [
       "[0, 1, 2, 3, 4, 5, 6, 7, 8, 9]"
      ]
     },
     "execution_count": 50,
     "metadata": {},
     "output_type": "execute_result"
    }
   ],
   "source": [
    "## list of numbers in a arthimatic progression \n",
    "list(range(10))"
   ]
  },
  {
   "cell_type": "code",
   "execution_count": 51,
   "id": "446fea64-31a2-4473-a95f-7c08e07b4537",
   "metadata": {},
   "outputs": [
    {
     "data": {
      "text/plain": [
       "[0, 5, 10, 15, 20, 25, 30, 35, 40, 45, 50]"
      ]
     },
     "execution_count": 51,
     "metadata": {},
     "output_type": "execute_result"
    }
   ],
   "source": [
    "list(range(0,51,5))"
   ]
  },
  {
   "cell_type": "markdown",
   "id": "7b4be630-aaee-4b7c-b6fc-31a1845789f4",
   "metadata": {},
   "source": [
    "### **Tuples, Sets and Dictionaries in Python**"
   ]
  },
  {
   "cell_type": "markdown",
   "id": "38d39635-7a37-4944-8579-d7c53be5f80a",
   "metadata": {},
   "source": [
    "#### *Tuples*"
   ]
  },
  {
   "cell_type": "code",
   "execution_count": 52,
   "id": "3e354335-8e1b-476f-b7b7-eae10012e226",
   "metadata": {},
   "outputs": [
    {
     "data": {
      "text/plain": [
       "(54, 753, 624, 736, 452, 635)"
      ]
     },
     "execution_count": 52,
     "metadata": {},
     "output_type": "execute_result"
    }
   ],
   "source": [
    "T = (54,753,624,736,452,635)\n",
    "T"
   ]
  },
  {
   "cell_type": "code",
   "execution_count": 53,
   "id": "9a5233c8-1086-4854-aade-f7d28dc29b53",
   "metadata": {},
   "outputs": [
    {
     "data": {
      "text/plain": [
       "6"
      ]
     },
     "execution_count": 53,
     "metadata": {},
     "output_type": "execute_result"
    }
   ],
   "source": [
    "len(T)"
   ]
  },
  {
   "cell_type": "code",
   "execution_count": 54,
   "id": "2a77a1bc-c212-4eb8-bc19-a4883e112476",
   "metadata": {},
   "outputs": [
    {
     "data": {
      "text/plain": [
       "54"
      ]
     },
     "execution_count": 54,
     "metadata": {},
     "output_type": "execute_result"
    }
   ],
   "source": [
    "T[0]"
   ]
  },
  {
   "cell_type": "code",
   "execution_count": 55,
   "id": "6e2464c4-1b9a-41b8-b9e9-bb297707f13d",
   "metadata": {},
   "outputs": [
    {
     "data": {
      "text/plain": [
       "(624, 736)"
      ]
     },
     "execution_count": 55,
     "metadata": {},
     "output_type": "execute_result"
    }
   ],
   "source": [
    "T[2:4]"
   ]
  },
  {
   "cell_type": "markdown",
   "id": "f9f751a9-5f22-4940-a086-aa7766045765",
   "metadata": {},
   "source": [
    "#### *Working with sets*"
   ]
  },
  {
   "cell_type": "code",
   "execution_count": 56,
   "id": "539ab82a-cec6-41b1-9859-fae9e8ceef69",
   "metadata": {},
   "outputs": [
    {
     "data": {
      "text/plain": [
       "{1, 2, 4, 5}"
      ]
     },
     "execution_count": 56,
     "metadata": {},
     "output_type": "execute_result"
    }
   ],
   "source": [
    "S1 = {1,4,2,5,2,5,1,4}\n",
    "S1"
   ]
  },
  {
   "cell_type": "code",
   "execution_count": 57,
   "id": "abfde413-d233-4508-9417-9283074d5295",
   "metadata": {},
   "outputs": [
    {
     "data": {
      "text/plain": [
       "{2, 4, 5, 6, 8, 10, 12}"
      ]
     },
     "execution_count": 57,
     "metadata": {},
     "output_type": "execute_result"
    }
   ],
   "source": [
    "S2 = {2,4,5,6,8,10,12}\n",
    "S2"
   ]
  },
  {
   "cell_type": "code",
   "execution_count": 58,
   "id": "51fc2358-5e83-4c47-be46-20835c56d880",
   "metadata": {},
   "outputs": [
    {
     "data": {
      "text/plain": [
       "{1, 2, 4, 5, 6, 8, 10, 12}"
      ]
     },
     "execution_count": 58,
     "metadata": {},
     "output_type": "execute_result"
    }
   ],
   "source": [
    "S1.union(S2)"
   ]
  },
  {
   "cell_type": "code",
   "execution_count": 59,
   "id": "c1aefea0-9574-45bb-92da-f53488c4ff1c",
   "metadata": {},
   "outputs": [
    {
     "data": {
      "text/plain": [
       "{2, 4, 5}"
      ]
     },
     "execution_count": 59,
     "metadata": {},
     "output_type": "execute_result"
    }
   ],
   "source": [
    "S1.intersection(S2)"
   ]
  },
  {
   "cell_type": "markdown",
   "id": "89c424c9-4a09-4c8e-a897-91c57c8f0114",
   "metadata": {},
   "source": [
    "#### *Working with dictionaaries* "
   ]
  },
  {
   "cell_type": "code",
   "execution_count": 60,
   "id": "3a5b3903-8e37-443c-a169-bf3102d642e9",
   "metadata": {},
   "outputs": [
    {
     "data": {
      "text/plain": [
       "dict"
      ]
     },
     "execution_count": 60,
     "metadata": {},
     "output_type": "execute_result"
    }
   ],
   "source": [
    "students = {}\n",
    "type(students)"
   ]
  },
  {
   "cell_type": "code",
   "execution_count": 61,
   "id": "9c0b55a7-faed-40e8-b568-b4eb2a24242e",
   "metadata": {},
   "outputs": [],
   "source": [
    "students[ \"Roll\"] = '20MAT100'"
   ]
  },
  {
   "cell_type": "code",
   "execution_count": 62,
   "id": "f1140a51-4b64-4521-b733-9743d3e8d9ca",
   "metadata": {},
   "outputs": [
    {
     "data": {
      "text/plain": [
       "{'Roll': '20MAT100'}"
      ]
     },
     "execution_count": 62,
     "metadata": {},
     "output_type": "execute_result"
    }
   ],
   "source": [
    "students"
   ]
  },
  {
   "cell_type": "code",
   "execution_count": 66,
   "id": "b5ce6455-3c8a-4903-a87a-8e149a90f1ac",
   "metadata": {},
   "outputs": [
    {
     "data": {
      "text/plain": [
       "{'Roll': '20MAT100', 'Name': 'Shubham Sharma'}"
      ]
     },
     "execution_count": 66,
     "metadata": {},
     "output_type": "execute_result"
    }
   ],
   "source": [
    "students['Name'] = 'Shubham Sharma'\n",
    "students"
   ]
  },
  {
   "cell_type": "markdown",
   "id": "3bfb11dd-780a-4c00-8dd6-444a1e3cac2c",
   "metadata": {},
   "source": [
    "#### *Functions and Branching*"
   ]
  },
  {
   "cell_type": "code",
   "execution_count": 71,
   "id": "f77ebfc1-a0ff-43d7-b4a6-3a48e4a6b8d0",
   "metadata": {},
   "outputs": [
    {
     "name": "stdout",
     "output_type": "stream",
     "text": [
      "11278986772.48\n"
     ]
    }
   ],
   "source": [
    "principal = 200000000\n",
    "rate = 124\n",
    "years = 5\n",
    "amount = principal*(1+rate/100)**years\n",
    "print(f'{amount:.2f}')\n"
   ]
  },
  {
   "cell_type": "code",
   "execution_count": 72,
   "id": "fbf25e75-8527-428f-87d2-35caf674e4c2",
   "metadata": {},
   "outputs": [],
   "source": [
    "def compound_interset(principal, rate, years):\n",
    "    amount = principal*(1+rate/100)**years\n",
    "    return amount"
   ]
  },
  {
   "cell_type": "code",
   "execution_count": 73,
   "id": "193d124b-3c0d-4106-a9b0-5b313850c9bb",
   "metadata": {},
   "outputs": [
    {
     "name": "stdout",
     "output_type": "stream",
     "text": [
      "The amount of compound interset received is Rs.63613.9631\n"
     ]
    }
   ],
   "source": [
    "amount = compound_interset(50000,3.5,7)\n",
    "print(f'The amount of compound interset received is Rs.{amount:.4f}')"
   ]
  },
  {
   "cell_type": "code",
   "execution_count": 74,
   "id": "af5296bd-514e-4f2b-be4b-37f94d669268",
   "metadata": {},
   "outputs": [
    {
     "name": "stdout",
     "output_type": "stream",
     "text": [
      "112789.87\n"
     ]
    }
   ],
   "source": [
    "principal = 2000\n",
    "rate = 124\n",
    "years = 5\n",
    "amount = principal*(1+rate/100)**years\n",
    "print(f'{amount:.2f}')"
   ]
  },
  {
   "cell_type": "code",
   "execution_count": null,
   "id": "f51b3424-d747-41ae-90a3-1157bea0283b",
   "metadata": {},
   "outputs": [],
   "source": []
  }
 ],
 "metadata": {
  "kernelspec": {
   "display_name": "Python 3 (ipykernel)",
   "language": "python",
   "name": "python3"
  },
  "language_info": {
   "codemirror_mode": {
    "name": "ipython",
    "version": 3
   },
   "file_extension": ".py",
   "mimetype": "text/x-python",
   "name": "python",
   "nbconvert_exporter": "python",
   "pygments_lexer": "ipython3",
   "version": "3.12.2"
  }
 },
 "nbformat": 4,
 "nbformat_minor": 5
}
