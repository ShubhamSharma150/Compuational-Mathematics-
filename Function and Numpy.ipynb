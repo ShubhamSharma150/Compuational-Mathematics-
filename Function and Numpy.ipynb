{
 "cells": [
  {
   "cell_type": "markdown",
   "id": "03865cdb-b1fa-4fdb-b3fc-43a63c20db91",
   "metadata": {},
   "source": [
    "### **Function And Branching**"
   ]
  },
  {
   "cell_type": "markdown",
   "id": "fe1e7aa5-c88f-4aaf-9d78-64248128a95a",
   "metadata": {},
   "source": [
    "#### *Creating Function*"
   ]
  },
  {
   "cell_type": "code",
   "execution_count": 1,
   "id": "3fddf714-d8bc-4cf4-9ccd-8f86a845cce9",
   "metadata": {},
   "outputs": [
    {
     "name": "stdout",
     "output_type": "stream",
     "text": [
      "The amount is received is Rs.23152.5000\n"
     ]
    }
   ],
   "source": [
    "P = 20000\n",
    "r = 5\n",
    "t = 3\n",
    "Amount = P*(1+r/100)**t\n",
    "print(f'The amount is received is Rs.{Amount:.4f}')"
   ]
  },
  {
   "cell_type": "code",
   "execution_count": 3,
   "id": "4e4a09e0-cd45-466a-8c2c-d353c92aacec",
   "metadata": {},
   "outputs": [],
   "source": [
    "def compound_interset(P,r,t):\n",
    "    Amount = P*(1+r/100)**t\n",
    "    return Amount "
   ]
  },
  {
   "cell_type": "code",
   "execution_count": 33,
   "id": "1a90fffb-daa5-4155-b935-4f6d1f6965c9",
   "metadata": {},
   "outputs": [],
   "source": [
    "def compound_interset(P,r,t):\n",
    "    Amount1 = P*(1+r/100)**t\n",
    "    return Amount\n",
    "    "
   ]
  },
  {
   "cell_type": "code",
   "execution_count": 17,
   "id": "91ed8dfc-58c1-438e-8667-0d95ace1696f",
   "metadata": {},
   "outputs": [
    {
     "name": "stdout",
     "output_type": "stream",
     "text": [
      "The amount is received is Rs.23152.50\n"
     ]
    }
   ],
   "source": [
    "Amount = compound_interset(20000,5,3)\n",
    "print(f'The amount is received is Rs.{Amount:.2f}')"
   ]
  },
  {
   "cell_type": "code",
   "execution_count": 10,
   "id": "c0569dce-f290-4474-abc4-6a7a4162d846",
   "metadata": {},
   "outputs": [
    {
     "name": "stdout",
     "output_type": "stream",
     "text": [
      "The amount is received is Rs.218545.4000\n"
     ]
    }
   ],
   "source": [
    "Amount = compound_interset(200000,3,3)\n",
    "print(f'The amount is received is Rs.{Amount:.4f}')"
   ]
  },
  {
   "cell_type": "code",
   "execution_count": 8,
   "id": "dd33d337-b0fd-45d4-b9c2-93e74f2f7d1a",
   "metadata": {},
   "outputs": [],
   "source": [
    "# Case when the interset is calculated more than once in year \n",
    "def compound_interset(principal, rate, years, n=1):\n",
    "    Amount = principal*(1+rate/(n*100))**(n*years)\n",
    "    return Amount"
   ]
  },
  {
   "cell_type": "code",
   "execution_count": 9,
   "id": "11e723b3-6323-4a19-a9e0-8c2aef328c6c",
   "metadata": {},
   "outputs": [
    {
     "name": "stdout",
     "output_type": "stream",
     "text": [
      "The amount is received is Rs.23207.9755\n"
     ]
    }
   ],
   "source": [
    "Amount = compound_interset(20000,5,3, n=3)\n",
    "print(f'The amount is received is Rs.{Amount:.4f}')"
   ]
  },
  {
   "cell_type": "markdown",
   "id": "a97be40f-555b-4003-94eb-068ebfa1a7fd",
   "metadata": {},
   "source": [
    "#### *User defined function for roots of ax^2+bx+c=0*"
   ]
  },
  {
   "cell_type": "code",
   "execution_count": 1,
   "id": "555affe2-85d4-4d49-9e77-b7ea24905e64",
   "metadata": {},
   "outputs": [],
   "source": [
    "from math import sqrt\n",
    "a, b, c = 2, 3, -2\n",
    "x1 = (-b+sqrt(b**2-4*a*c))/(2*a)\n",
    "x2 = (-b-sqrt(b**2-4*a*c))/(2*a)"
   ]
  },
  {
   "cell_type": "code",
   "execution_count": 19,
   "id": "96a4e2da-e650-44da-8509-9b83e1475d10",
   "metadata": {},
   "outputs": [
    {
     "name": "stdout",
     "output_type": "stream",
     "text": [
      "The roots of the quadratic are 0.5 and -2.0\n"
     ]
    }
   ],
   "source": [
    "print(f'The roots of the quadratic are {x1} and {x2}')"
   ]
  },
  {
   "cell_type": "code",
   "execution_count": 20,
   "id": "c2e03a79-a23f-40ea-a792-807dcca7129d",
   "metadata": {},
   "outputs": [],
   "source": [
    "def quad(a, b, c):\n",
    "    x1 = (-b+sqrt(b**2-4*a*c))/(2*a)\n",
    "    x2 = (-b-sqrt(b**2-4*a*c))/(2*a)\n",
    "    return(x1,x2)"
   ]
  },
  {
   "cell_type": "code",
   "execution_count": 24,
   "id": "11213edb-63ad-47b5-8ea7-3fc23e689d7a",
   "metadata": {},
   "outputs": [
    {
     "name": "stdout",
     "output_type": "stream",
     "text": [
      "The roots of the quadratic are 3.0881669257249134 and -3.238166925724913\n"
     ]
    }
   ],
   "source": [
    "a, b, c = 20, 3, -200\n",
    "x1, x2 = quad(a, b, c)\n",
    "print(f'The roots of the quadratic are {x1} and {x2}')"
   ]
  },
  {
   "cell_type": "code",
   "execution_count": 26,
   "id": "17fbaf03-2e6c-4ebc-9578-bb7af3033679",
   "metadata": {},
   "outputs": [],
   "source": [
    "from math import sqrt\n",
    "def Heron(a, b, c):\n",
    "    s = (a+b+c)/2\n",
    "    Area = sqrt(s*(s-a)*(s-b)*(s-c))\n",
    "    return Area\n"
   ]
  },
  {
   "cell_type": "code",
   "execution_count": 28,
   "id": "e961e830-f2d2-4621-8219-ba69194fb5ff",
   "metadata": {},
   "outputs": [
    {
     "name": "stdout",
     "output_type": "stream",
     "text": [
      "The area of triangle is 0.0000\n"
     ]
    }
   ],
   "source": [
    "a, b, c = 3, 7, 10\n",
    "Area = Heron(a, b, c)\n",
    "print(f'The area of triangle is {Area:.4f}')"
   ]
  },
  {
   "cell_type": "code",
   "execution_count": 30,
   "id": "d2a9586f-2640-4e27-a0f5-1e6e0790ca05",
   "metadata": {},
   "outputs": [
    {
     "name": "stdout",
     "output_type": "stream",
     "text": [
      "The area of triangle is 8.7856\n"
     ]
    }
   ],
   "source": [
    "a, b, c = 3, 7, 9\n",
    "Area = Heron(a, b, c)\n",
    "print(f'The area of triangle is {Area:.4f}')"
   ]
  },
  {
   "cell_type": "markdown",
   "id": "5a7bfeef-888d-4331-bdf8-c4dee14f3ebe",
   "metadata": {},
   "source": [
    "#### *Branching(makking decesions)*"
   ]
  },
  {
   "cell_type": "markdown",
   "id": "0e10ca7e-0c8b-4d56-8c10-4f77322d1c2b",
   "metadata": {},
   "source": [
    "##### if (condition/s):\n",
    "        statement1\n",
    "    else:\n",
    "        statement2"
   ]
  },
  {
   "cell_type": "markdown",
   "id": "05a24a8d-9070-4831-9224-3535afa0fba0",
   "metadata": {},
   "source": [
    "##### input three real numbers and check if they can be sides of a triangle."
   ]
  },
  {
   "cell_type": "code",
   "execution_count": 54,
   "id": "54af955d-756f-44dd-a515-59f3a929a5a1",
   "metadata": {},
   "outputs": [
    {
     "name": "stdout",
     "output_type": "stream",
     "text": [
      "a, b, c are not sides of a triangles\n"
     ]
    }
   ],
   "source": [
    "a, b, c = 4, 6, 11\n",
    "if (a+b>c and a+c>b and b+c>a):\n",
    "    print('a, b, c are sides of a triangles')\n",
    "else:\n",
    "    print('a, b, c are not sides of a triangles')"
   ]
  },
  {
   "cell_type": "code",
   "execution_count": 87,
   "id": "5d0ea621-8582-4822-a246-2758a6ed1ae4",
   "metadata": {},
   "outputs": [
    {
     "name": "stdout",
     "output_type": "stream",
     "text": [
      "a, b, c are not sides of a triangles\n"
     ]
    }
   ],
   "source": [
    "a, b, c = 4, 6, 20\n",
    "if (a+b>c and a+c>b and b+c>a):\n",
    "    print('a, b, c are sides of a triangles')\n",
    "else:\n",
    "    print('a, b, c are not sides of a triangles')"
   ]
  },
  {
   "cell_type": "code",
   "execution_count": 88,
   "id": "c7b33b75-2517-49c9-91e9-5988b18b606a",
   "metadata": {},
   "outputs": [
    {
     "name": "stdout",
     "output_type": "stream",
     "text": [
      "Equilateral triangle\n"
     ]
    }
   ],
   "source": [
    "a, b, c = 6, 6, 6\n",
    "if (a+b>c and a+c>b and b+c>a):\n",
    "    if(a==b and b==c):\n",
    "        print('Equilateral triangle')\n",
    "    elif(a==b or b==c or c==a):\n",
    "        print('Isoceles triangle')\n",
    "    else:\n",
    "        print('Scalene triangle')\n",
    "else:\n",
    "       print('Not a triangle')\n"
   ]
  },
  {
   "cell_type": "code",
   "execution_count": null,
   "id": "ef19373e-d285-47cf-9f7a-7b9b89167a91",
   "metadata": {},
   "outputs": [],
   "source": [
    "a, b, c = 4, 6, 6\n",
    "if (a+b>c and a+c>b and b+c>a):\n",
    "    if(a==b and b==c):\n",
    "        print('Equilateral triangle')\n",
    "    elif(a==b or b==c or c==a):\n",
    "        print('Isoceles triangle')\n",
    "    else:\n",
    "        print('Scalene triangle')\n",
    "else:\n",
    "       print('Not a triangle')"
   ]
  },
  {
   "cell_type": "code",
   "execution_count": null,
   "id": "9cfe47d8-428c-4814-adb7-04f4e1911b63",
   "metadata": {},
   "outputs": [],
   "source": [
    "a, b, c = 4, 5, 6\n",
    "if (a+b>c and a+c>b and b+c>a):\n",
    "    if(a==b and b==c):\n",
    "        print('Equilateral triangle')\n",
    "    elif(a==b or b==c or c==a):\n",
    "        print('Isoceles triangle')\n",
    "    else:\n",
    "        print('Scalene triangle')\n",
    "else:\n",
    "       print('Not a triangle')"
   ]
  },
  {
   "cell_type": "code",
   "execution_count": null,
   "id": "77f1a1cd-a1e8-4822-96cf-c2063075cb6f",
   "metadata": {},
   "outputs": [],
   "source": [
    "a, b, c = 6, 4, 20\n",
    "if (a+b>c and a+c>b and b+c>a):\n",
    "    if(a==b and b==c):\n",
    "        print('Equilateral triangle')\n",
    "    elif(a==b or b==c or c==a):\n",
    "        print('Isoceles triangle')\n",
    "    else:\n",
    "        print('Scalene triangle')\n",
    "else:\n",
    "       print('Not a triangle')"
   ]
  },
  {
   "cell_type": "markdown",
   "id": "b0f827b4-76f6-42af-a256-1743b53c8dbf",
   "metadata": {},
   "source": [
    "#### Roots of a quadratic equations covering all cases"
   ]
  },
  {
   "cell_type": "code",
   "execution_count": null,
   "id": "07afc248-b8d7-4782-a640-eb7a59372deb",
   "metadata": {},
   "outputs": [],
   "source": [
    "from math import sqrt\n",
    "from cmath import sqrt as csqrt\n",
    "def solve_quad(a, b, c):\n",
    "    if(a==0):\n",
    "        if(b!=0):\n",
    "            x1 = -c/b\n",
    "            print(f'It has only one root, x1={x1}')\n",
    "        else:\n",
    "            print('It has no root')\n",
    "    else:\n",
    "        d = b**2-4*a*c\n",
    "        if(d>=0):\n",
    "            print('Roots are real')\n",
    "            x1 = (-b+sqrt(b**2-4*a*c))/(2*a)\n",
    "            x2 = (-b-sqrt(b**2-4*a*c))/(2*a)\n",
    "            print(f'The roots are {x1} and {x2}')\n",
    "        else:\n",
    "            print('Roots are imaginary')\n",
    "            x1 = (-b+csqrt(b**2-4*a*c))/(2*a)\n",
    "            x2 = (-b-csqrt(b**2-4*a*c))/(2*a)\n",
    "            print(f'The roots are {x1} and {x2}')\n",
    "            "
   ]
  },
  {
   "cell_type": "code",
   "execution_count": null,
   "id": "4e84f713-de23-4ee2-8d00-ffd9596edefa",
   "metadata": {},
   "outputs": [],
   "source": [
    "solve_quad(1, 6, 5)"
   ]
  },
  {
   "cell_type": "markdown",
   "id": "2a0cf30f-406a-40e6-9ccd-e3c8dab11335",
   "metadata": {},
   "source": [
    "#### *Loops in Python*"
   ]
  },
  {
   "cell_type": "markdown",
   "id": "025b189c-3ff8-4a0d-82e3-1f358786b39a",
   "metadata": {},
   "source": [
    "##### For loop"
   ]
  },
  {
   "cell_type": "markdown",
   "id": "9e896807-a361-44f9-bf0c-e64fbe709d58",
   "metadata": {},
   "source": [
    "#### for var in X\n",
    "#####       statement/s"
   ]
  },
  {
   "cell_type": "code",
   "execution_count": 55,
   "id": "feffa44d-1d38-4e4e-98bc-c8e7271d19c0",
   "metadata": {},
   "outputs": [
    {
     "name": "stdout",
     "output_type": "stream",
     "text": [
      "0\n",
      "-8\n",
      "1\n",
      "-7\n",
      "2\n",
      "-6\n",
      "3\n",
      "-5\n",
      "4\n",
      "-4\n",
      "5\n",
      "-3\n",
      "6\n",
      "-2\n",
      "7\n",
      "-1\n",
      "8\n",
      "-16\n",
      "9\n",
      "-15\n"
     ]
    }
   ],
   "source": [
    "for k in range(10):\n",
    "    print(k)\n",
    "    print(k^2-10)"
   ]
  },
  {
   "cell_type": "code",
   "execution_count": null,
   "id": "d9bb39e6-ea73-48e8-b350-2e8c8b67d7ef",
   "metadata": {},
   "outputs": [],
   "source": [
    "for k in tuple(range(10)):\n",
    "    print(k)"
   ]
  },
  {
   "cell_type": "code",
   "execution_count": null,
   "id": "19c8f428-2bc6-475d-940b-e2b5590f5229",
   "metadata": {},
   "outputs": [],
   "source": [
    "for k in set(range(10)):\n",
    "    print(k)"
   ]
  },
  {
   "cell_type": "code",
   "execution_count": 2,
   "id": "580a4998-fb9f-4b0f-bc4a-dd5c3474b2a9",
   "metadata": {},
   "outputs": [
    {
     "name": "stdout",
     "output_type": "stream",
     "text": [
      "The amount after 1yr. is 21000.0000\n",
      "The amount after 2yr. is 22050.0000\n",
      "The amount after 3yr. is 23152.5000\n",
      "The amount after 4yr. is 24310.1250\n",
      "The amount after 5yr. is 25525.6313\n",
      "The amount after 6yr. is 26801.9128\n",
      "The amount after 7yr. is 28142.0085\n",
      "The amount after 8yr. is 29549.1089\n",
      "The amount after 9yr. is 31026.5643\n",
      "The amount after 10yr. is 32577.8925\n"
     ]
    }
   ],
   "source": [
    "# printing the amount received on an investment under compound interset every years for 10 years.\n",
    "principal = 20000\n",
    "rate = 5.0\n",
    "for years in range(1,11):\n",
    "    amount = principal*(1+rate/100)**years\n",
    "    print(f'The amount after {years}yr. is {amount:.4f}')"
   ]
  },
  {
   "cell_type": "code",
   "execution_count": null,
   "id": "7005b909-9c2f-4160-9345-283cd2958315",
   "metadata": {},
   "outputs": [],
   "source": [
    "def compound_interset(principal,rate,years):\n",
    "    amount = principal*(1+rate/100)**years\n",
    "    return amount"
   ]
  },
  {
   "cell_type": "code",
   "execution_count": null,
   "id": "973f1f6b-12e8-40b8-9999-4df6e4545683",
   "metadata": {},
   "outputs": [],
   "source": [
    "for years in range(1,11):\n",
    "    amount = compound_interset(20000,5,years)\n",
    "    print(f'The amount after {years}yr. is {amount:.4f}')"
   ]
  },
  {
   "cell_type": "markdown",
   "id": "0abc27f6-5f90-40c0-83ac-bb55bc773178",
   "metadata": {},
   "source": [
    "#### Suppose we want to take out the money, after it has become doubled."
   ]
  },
  {
   "cell_type": "code",
   "execution_count": null,
   "id": "083bdb65-4452-4f1b-bd64-9a7f942b4f88",
   "metadata": {},
   "outputs": [],
   "source": [
    "for years in range(1,21):\n",
    "    amount = compound_interset(20000,5,years)\n",
    "    print(f'The amount after {years}yr. is {amount:.4f}')\n",
    "    if(amount>=2*principal):\n",
    "        break"
   ]
  },
  {
   "cell_type": "markdown",
   "id": "18b93d14-d0d3-43ec-8365-b3d5890f7f77",
   "metadata": {},
   "source": [
    "# Introduction of Numpy Library"
   ]
  },
  {
   "cell_type": "markdown",
   "id": "c91dc76c-8cdc-4e30-8fa8-9fdd34fd6470",
   "metadata": {},
   "source": [
    "Numpy stands for numerical python and it is a python core library or module for\n",
    "doing scientific computation and it contains a powerful n-dimensional array object."
   ]
  },
  {
   "cell_type": "markdown",
   "id": "7e968a28-f902-42b5-8080-d5ad80805638",
   "metadata": {},
   "source": [
    "## Installation"
   ]
  },
  {
   "cell_type": "markdown",
   "id": "f11659cd-ce6b-4ce8-9bc3-e4cec34adbe3",
   "metadata": {},
   "source": [
    "conda install Numpy\n"
   ]
  },
  {
   "cell_type": "markdown",
   "id": "0851654e-2282-4d74-9439-b41d3c3dfe41",
   "metadata": {},
   "source": [
    "pip install Numpy"
   ]
  },
  {
   "cell_type": "markdown",
   "id": "112e8694-1640-4567-b32e-8fb1844f5051",
   "metadata": {},
   "source": [
    "Once you have installed Numpy you can import this and\n",
    "make use of all the functions that are available inside Numpy, we will see that this\n",
    "function is very useful."
   ]
  },
  {
   "cell_type": "markdown",
   "id": "513fcbf2-2442-4a71-9a63-fa089b0268ce",
   "metadata": {},
   "source": [
    "## Features"
   ]
  },
  {
   "cell_type": "markdown",
   "id": "6b7da88f-889b-4823-ad7e-493b1b700cf1",
   "metadata": {},
   "source": [
    "it is a powerful N-dimensional array object, it provides several methods that can be\n",
    "applied on an N-dimensional array, it has sophisticated scientific functions, it can be\n",
    "thought of as a tool for integrating C, C++, and Fortran codes. It is very useful for\n",
    "working with linear algebra, Fourier transforms, and also random number generations."
   ]
  },
  {
   "cell_type": "markdown",
   "id": "382dfaae-8f4a-4504-95fb-a527804bfab8",
   "metadata": {},
   "source": [
    "Numpy along with SciPy has very nice features and a lot of features\n",
    "that MatLab has and of course, it is very very useful in data analysis."
   ]
  },
  {
   "cell_type": "markdown",
   "id": "bc74e48d-452b-42e1-83f2-62d66f09950e",
   "metadata": {},
   "source": [
    "## Python List vs Numpy"
   ]
  },
  {
   "cell_type": "markdown",
   "id": "0e3e40c0-523f-4e29-a0a3-8ddb1cc8cc61",
   "metadata": {},
   "source": [
    "We have already seen how to generate a list 1-dimensional list or 2-dimensional list\n",
    "in python, but there were several drawbacks or limitations to this list."
   ]
  },
  {
   "cell_type": "markdown",
   "id": "113840d4-170c-4de2-95c1-a515a85faec6",
   "metadata": {},
   "source": [
    " So, the question is\n",
    "why not use the Python list? Why do we want to use Numpy array?"
   ]
  },
  {
   "cell_type": "markdown",
   "id": "ebd74370-e4b1-4330-91fa-5ec2a5c1ade9",
   "metadata": {},
   "source": [
    "So, there are few advantages: one, the Numpy list consumes less memory and as a result\n",
    "it is fast and at the same time it is quite versatile."
   ]
  },
  {
   "cell_type": "markdown",
   "id": "bcc93d5e-8f02-43ab-b837-974227d94f2c",
   "metadata": {},
   "source": [
    "So, let us look at a function \"range\" in Python which we have already used. But when we\n",
    "used range, the range works only for a sequence of numbers that are integers and you can\n",
    "have integer increments. If I want decimal increment it does not work, we have already\n",
    "seen that, whereas, in Numpy, there is a function called \"arange\" where you can not only\n",
    "create a sequence of integers, but you can also create a sequence with increment as a\n",
    "decimal number."
   ]
  },
  {
   "cell_type": "code",
   "execution_count": 35,
   "id": "059ec881-48f6-4c9e-b849-afd3f7517a13",
   "metadata": {},
   "outputs": [
    {
     "name": "stdout",
     "output_type": "stream",
     "text": [
      "Requirement already satisfied: Numpy in /opt/anaconda3/lib/python3.12/site-packages (1.26.4)\n",
      "Note: you may need to restart the kernel to use updated packages.\n"
     ]
    }
   ],
   "source": [
    "pip install Numpy"
   ]
  },
  {
   "cell_type": "code",
   "execution_count": 5,
   "id": "2c6b3076-81ef-441a-b04f-f5f3f4b726b3",
   "metadata": {},
   "outputs": [],
   "source": [
    "import numpy as np"
   ]
  },
  {
   "cell_type": "code",
   "execution_count": 37,
   "id": "5c067658-1092-4e8f-b439-4a78f0e23f8e",
   "metadata": {},
   "outputs": [
    {
     "data": {
      "text/plain": [
       "[20, 22, 24, 26, 28]"
      ]
     },
     "execution_count": 37,
     "metadata": {},
     "output_type": "execute_result"
    }
   ],
   "source": [
    "L = list(range(20,30,2))\n",
    "L"
   ]
  },
  {
   "cell_type": "code",
   "execution_count": 6,
   "id": "da4b34aa-3a47-4454-8ed5-411d52b3e732",
   "metadata": {},
   "outputs": [
    {
     "ename": "NameError",
     "evalue": "name 'NL' is not defined",
     "output_type": "error",
     "traceback": [
      "\u001b[0;31m---------------------------------------------------------------------------\u001b[0m",
      "\u001b[0;31mNameError\u001b[0m                                 Traceback (most recent call last)",
      "Cell \u001b[0;32mIn[6], line 2\u001b[0m\n\u001b[1;32m      1\u001b[0m \u001b[38;5;28;01mfrom\u001b[39;00m \u001b[38;5;21;01mmath\u001b[39;00m \u001b[38;5;28;01mimport\u001b[39;00m sin\n\u001b[0;32m----> 2\u001b[0m sin(NL)\n",
      "\u001b[0;31mNameError\u001b[0m: name 'NL' is not defined"
     ]
    }
   ],
   "source": [
    "from math import sin\n",
    "sin(NL)"
   ]
  },
  {
   "cell_type": "code",
   "execution_count": 7,
   "id": "9809cbdb-06da-4959-952b-a72cddda3700",
   "metadata": {},
   "outputs": [
    {
     "data": {
      "text/plain": [
       "array([20. , 22.5, 25. , 27.5])"
      ]
     },
     "execution_count": 7,
     "metadata": {},
     "output_type": "execute_result"
    }
   ],
   "source": [
    "NL = np.arange(20,30,2.5)\n",
    "NL"
   ]
  },
  {
   "cell_type": "code",
   "execution_count": 8,
   "id": "7c77e3c0-c0d7-40d8-b0af-a8e4d5d98dcc",
   "metadata": {},
   "outputs": [
    {
     "data": {
      "text/plain": [
       "array([20. , 22.5, 25. , 27.5, 30. , 32.5, 35. , 37.5, 40. , 42.5, 45. ,\n",
       "       47.5])"
      ]
     },
     "execution_count": 8,
     "metadata": {},
     "output_type": "execute_result"
    }
   ],
   "source": [
    "NL = np.arange(20,50,2.5)\n",
    "NL"
   ]
  },
  {
   "cell_type": "code",
   "execution_count": 9,
   "id": "eee81f5f-35f7-4513-9389-4f6b108fe9e8",
   "metadata": {},
   "outputs": [
    {
     "data": {
      "text/plain": [
       "array([ 0.91294525, -0.48717451, -0.13235175,  0.69924003, -0.98803162,\n",
       "        0.88387042, -0.42818267, -0.1977988 ,  0.74511316, -0.9960865 ,\n",
       "        0.85090352, -0.36730535])"
      ]
     },
     "execution_count": 9,
     "metadata": {},
     "output_type": "execute_result"
    }
   ],
   "source": [
    "np.sin(NL)"
   ]
  },
  {
   "cell_type": "code",
   "execution_count": 10,
   "id": "b4426dd0-6fa7-4ffe-8f20-079e4ce2a956",
   "metadata": {},
   "outputs": [],
   "source": [
    "from math import *"
   ]
  },
  {
   "cell_type": "code",
   "execution_count": 11,
   "id": "8138698d-986a-45d9-9b16-c096d574a81f",
   "metadata": {},
   "outputs": [
    {
     "data": {
      "text/plain": [
       "array([ 0.91294525, -0.48717451, -0.13235175,  0.69924003, -0.98803162,\n",
       "        0.88387042, -0.42818267, -0.1977988 ,  0.74511316, -0.9960865 ,\n",
       "        0.85090352, -0.36730535])"
      ]
     },
     "execution_count": 11,
     "metadata": {},
     "output_type": "execute_result"
    }
   ],
   "source": [
    "np.sin(NL)"
   ]
  },
  {
   "cell_type": "code",
   "execution_count": 12,
   "id": "9cfc2748-2923-4aab-a46e-442ae657ca7f",
   "metadata": {},
   "outputs": [
    {
     "data": {
      "text/plain": [
       "array([4.85165195e+08, 5.91052206e+09, 7.20048993e+10, 8.77199251e+11,\n",
       "       1.06864746e+13, 1.30187912e+14, 1.58601345e+15, 1.93215993e+16,\n",
       "       2.35385267e+17, 2.86757959e+18, 3.49342711e+19, 4.25586546e+20])"
      ]
     },
     "execution_count": 12,
     "metadata": {},
     "output_type": "execute_result"
    }
   ],
   "source": [
    "np.exp(NL)"
   ]
  },
  {
   "cell_type": "code",
   "execution_count": null,
   "id": "41eadaf9-e370-4956-87a7-816f4c8318db",
   "metadata": {},
   "outputs": [],
   "source": [
    "np.linspace(20,30,11)"
   ]
  },
  {
   "cell_type": "code",
   "execution_count": null,
   "id": "60d30409-dae1-4490-b2f2-e5aa6657d9a8",
   "metadata": {},
   "outputs": [],
   "source": [
    "np.linspace(20,30,31)"
   ]
  },
  {
   "cell_type": "code",
   "execution_count": null,
   "id": "29442ed7-499b-4742-bccf-8cae5c83660f",
   "metadata": {},
   "outputs": [],
   "source": [
    "np.linspace(20,30,51)"
   ]
  },
  {
   "cell_type": "code",
   "execution_count": null,
   "id": "82876599-4a8b-4f18-9ee4-51bfd1db07fc",
   "metadata": {},
   "outputs": [],
   "source": [
    "np.linspace(20,30,51)"
   ]
  },
  {
   "cell_type": "markdown",
   "id": "943f3808-61dc-4cc4-b23a-53b1b3bec789",
   "metadata": {},
   "source": [
    "let us also look at some of the other mathematical functions inside Numpy library."
   ]
  },
  {
   "cell_type": "code",
   "execution_count": null,
   "id": "01f2e8ee-1c9c-4b56-97b3-5eef39010d05",
   "metadata": {},
   "outputs": [],
   "source": [
    "import random\n",
    "x = np.array([random.randint(-10,10) for i in range(20)])\n",
    "x"
   ]
  },
  {
   "cell_type": "code",
   "execution_count": null,
   "id": "6da7c95b-5dbf-4ceb-87e9-d2171ff7c064",
   "metadata": {},
   "outputs": [],
   "source": [
    "import random\n",
    "x = np.array([random.randint(-10,10) for i in range(20)])\n",
    "x"
   ]
  },
  {
   "cell_type": "code",
   "execution_count": null,
   "id": "b5139dad-a879-46fc-b911-a43899e6315d",
   "metadata": {},
   "outputs": [],
   "source": [
    "np.mean(x)\n"
   ]
  },
  {
   "cell_type": "code",
   "execution_count": null,
   "id": "98d1aa23-209d-450c-9b5a-37e9476632d1",
   "metadata": {},
   "outputs": [],
   "source": [
    "np.exp(x)"
   ]
  },
  {
   "cell_type": "code",
   "execution_count": null,
   "id": "d56a1817-07ec-4190-aa07-5806ff5f70c4",
   "metadata": {},
   "outputs": [],
   "source": [
    "np.max(x)"
   ]
  },
  {
   "cell_type": "code",
   "execution_count": null,
   "id": "54c0a9d3-c69c-4475-8868-d8d50435c0c1",
   "metadata": {},
   "outputs": [],
   "source": [
    "np.sin(x)"
   ]
  },
  {
   "cell_type": "code",
   "execution_count": null,
   "id": "89b38e30-4960-46f4-9e3f-d74152c19d6b",
   "metadata": {},
   "outputs": [],
   "source": [
    "np.argmax(x)"
   ]
  },
  {
   "cell_type": "code",
   "execution_count": null,
   "id": "ea0d4cbc-d571-4d8b-a784-c034516a0b0b",
   "metadata": {},
   "outputs": [],
   "source": [
    "x[3]"
   ]
  },
  {
   "cell_type": "code",
   "execution_count": null,
   "id": "5d03a87a-67c7-4119-a8a9-de21a293db97",
   "metadata": {},
   "outputs": [],
   "source": [
    "x[3:7]"
   ]
  },
  {
   "cell_type": "code",
   "execution_count": null,
   "id": "75d9c9a6-2b7f-45b6-ae91-bb20419d02d0",
   "metadata": {},
   "outputs": [],
   "source": [
    "def f(t):\n",
    "    return (np.exp(-t)+np.sin(t**2))"
   ]
  },
  {
   "cell_type": "code",
   "execution_count": null,
   "id": "9f887a90-5fe1-482f-8443-b819bc4227ed",
   "metadata": {},
   "outputs": [],
   "source": [
    "f(x)"
   ]
  },
  {
   "cell_type": "markdown",
   "id": "4b09198c-98ea-4f39-9ce6-01f1af5de3cb",
   "metadata": {},
   "source": [
    "So, if I say f(x) you will see the f of each of the entries inside this list ok. So, you can\n",
    "apply any function to a list that you have created ok? So, next time we will look at how\n",
    "to deal with 2-dimensional array even 3-dimensional array and we will look at how to\n",
    "work with matrices."
   ]
  },
  {
   "cell_type": "markdown",
   "id": "0055b6d8-65da-435a-81ef-7e6c11202f17",
   "metadata": {},
   "source": [
    "So, there is another library inside Numpy which is called linalg module and inside linalg\n",
    "you have basic functions to deal with linear algebra methods ok; so, I will see you in the\n",
    "next lecture."
   ]
  },
  {
   "cell_type": "code",
   "execution_count": 13,
   "id": "d85cbbc6-9854-4337-91c1-a0f8d9ea15ce",
   "metadata": {},
   "outputs": [],
   "source": [
    "import numpy as np"
   ]
  },
  {
   "cell_type": "code",
   "execution_count": null,
   "id": "5e9a12be-0c66-4829-bfaf-1988ee46d417",
   "metadata": {},
   "outputs": [],
   "source": []
  }
 ],
 "metadata": {
  "kernelspec": {
   "display_name": "Python 3 (ipykernel)",
   "language": "python",
   "name": "python3"
  },
  "language_info": {
   "codemirror_mode": {
    "name": "ipython",
    "version": 3
   },
   "file_extension": ".py",
   "mimetype": "text/x-python",
   "name": "python",
   "nbconvert_exporter": "python",
   "pygments_lexer": "ipython3",
   "version": "3.12.2"
  }
 },
 "nbformat": 4,
 "nbformat_minor": 5
}
