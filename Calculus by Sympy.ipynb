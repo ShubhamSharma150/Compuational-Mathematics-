{
 "cells": [
  {
   "cell_type": "code",
   "execution_count": 1,
   "id": "585f1965-9200-4d86-9d51-6763e4dc34c4",
   "metadata": {},
   "outputs": [],
   "source": [
    "from sympy import *\n",
    "x, y, z = symbols('x y z')\n",
    "init_printing(use_unicode=True)"
   ]
  },
  {
   "cell_type": "markdown",
   "id": "f684c6fc-a371-4e0b-98fc-b73fc98e701b",
   "metadata": {},
   "source": [
    "#### **Derivative**"
   ]
  },
  {
   "cell_type": "markdown",
   "id": "41a617a6-b62d-4984-8cda-1006a48c2f56",
   "metadata": {},
   "source": [
    "*To take derivatives, use the diff() function.*"
   ]
  },
  {
   "cell_type": "code",
   "execution_count": 42,
   "id": "5d3e83d0-a48b-480b-938f-1d888b5bf224",
   "metadata": {},
   "outputs": [
    {
     "data": {
      "image/png": "[encoded data removed]",
      "text/latex": [
       "$\\displaystyle \\left( - \\sin{\\left(x \\right)} + \\cos{\\left(x \\right)}, \\  2 x e^{x^{2}} + \\frac{1}{x}\\right)$"
      ],
      "text/plain": [
       "⎛                       ⎛ 2⎞    ⎞\n",
       "⎜                       ⎝x ⎠   1⎟\n",
       "⎜-sin(x) + cos(x), 2⋅x⋅ℯ     + ─⎟\n",
       "⎝                              x⎠"
      ]
     },
     "execution_count": 42,
     "metadata": {},
     "output_type": "execute_result"
    }
   ],
   "source": [
    "f = diff(cos(x)+sin(x), x)\n",
    "g = diff(exp(x**2)+log(x), x)\n",
    "f,g"
   ]
  },
  {
   "cell_type": "code",
   "execution_count": 14,
   "id": "6f8d3b7f-b929-4f64-97c1-2c04e81019df",
   "metadata": {},
   "outputs": [
    {
     "data": {
      "image/png": "[encoded data removed]",
      "text/latex": [
       "$\\displaystyle \\left( z \\left(x y z + 1\\right) e^{x y z}, \\  x^{3} y^{3} \\left(x^{2} y^{2} z^{2} + 9 x y z + 16\\right) e^{x y z}\\right)$"
      ],
      "text/plain": [
       "⎛               x⋅y⋅z   3  3 ⎛ 2  2  2               ⎞  x⋅y⋅z⎞\n",
       "⎝z⋅(x⋅y⋅z + 1)⋅ℯ     , x ⋅y ⋅⎝x ⋅y ⋅z  + 9⋅x⋅y⋅z + 16⎠⋅ℯ     ⎠"
      ]
     },
     "execution_count": 14,
     "metadata": {},
     "output_type": "execute_result"
    }
   ],
   "source": [
    "expr = exp(x*y*z) # Partial deriative\n",
    "f = diff(expr, x,y)\n",
    "g = diff(expr, x, y, z, 4)\n",
    "f,g"
   ]
  },
  {
   "cell_type": "code",
   "execution_count": 16,
   "id": "4b6b2501-d56f-425e-a359-38d2ae2300a3",
   "metadata": {},
   "outputs": [
    {
     "data": {
      "image/png": "[encoded data removed]",
      "text/latex": [
       "$\\displaystyle \\frac{\\partial^{7}}{\\partial z^{4}\\partial y^{2}\\partial x} e^{x y z}$"
      ],
      "text/plain": [
       "     7            \n",
       "    ∂     ⎛ x⋅y⋅z⎞\n",
       "──────────⎝ℯ     ⎠\n",
       "  4   2           \n",
       "∂z  ∂y  ∂x        "
      ]
     },
     "execution_count": 16,
     "metadata": {},
     "output_type": "execute_result"
    }
   ],
   "source": [
    "deriv = Derivative(expr, x, y, 2, z, 4)\n",
    "deriv"
   ]
  },
  {
   "cell_type": "markdown",
   "id": "1fd3d327-cc93-4b8e-b0a7-829acc0acfde",
   "metadata": {},
   "source": [
    "#### **Integrals**"
   ]
  },
  {
   "cell_type": "markdown",
   "id": "9517cbb5-055d-48ac-93a4-35bbc2d93fae",
   "metadata": {},
   "source": [
    "*To compute an integral, use the integrate() function. There are two kinds of integrals, definite and indefinite. To compute an indefinite integral, that is, an antiderivative, or primitive, just pass the variable after the expression.*"
   ]
  },
  {
   "cell_type": "code",
   "execution_count": 19,
   "id": "3fef6758-b402-46d9-9d9c-102bd98ad71d",
   "metadata": {},
   "outputs": [
    {
     "data": {
      "image/png": "[encoded data removed]",
      "text/latex": [
       "$\\displaystyle \\sin{\\left(x \\right)}$"
      ],
      "text/plain": [
       "sin(x)"
      ]
     },
     "execution_count": 19,
     "metadata": {},
     "output_type": "execute_result"
    }
   ],
   "source": [
    "integrate(cos(x), x)"
   ]
  },
  {
   "cell_type": "markdown",
   "id": "5e655f35-4f0b-4e58-9c35-994cc441d905",
   "metadata": {},
   "source": [
    "*SymPy does not include the constant of integration. If you want it, you can add one yourself, or rephrase your problem as a differential equation and use dsolve() to solve it, which does add the constant*"
   ]
  },
  {
   "cell_type": "code",
   "execution_count": 21,
   "id": "2a23d208-e11a-46f3-885c-dcfe004cbe05",
   "metadata": {},
   "outputs": [
    {
     "data": {
      "image/png": "[encoded data removed]",
      "text/latex": [
       "$\\displaystyle 1$"
      ],
      "text/plain": [
       "1"
      ]
     },
     "execution_count": 21,
     "metadata": {},
     "output_type": "execute_result"
    }
   ],
   "source": [
    "integrate(exp(-x), (x, 0, oo)) # Definite Integral "
   ]
  },
  {
   "cell_type": "code",
   "execution_count": 22,
   "id": "9ac26c8a-6263-427d-94d8-a7331943b089",
   "metadata": {},
   "outputs": [
    {
     "data": {
      "image/png": "[encoded data removed]",
      "text/latex": [
       "$\\displaystyle \\pi$"
      ],
      "text/plain": [
       "π"
      ]
     },
     "execution_count": 22,
     "metadata": {},
     "output_type": "execute_result"
    }
   ],
   "source": [
    "integrate(exp(-x**2 - y**2), (x, -oo, oo), (y, -oo, oo)) # Double integral"
   ]
  },
  {
   "cell_type": "code",
   "execution_count": 23,
   "id": "8380ee13-f26b-4c17-9065-5a3601b6421b",
   "metadata": {},
   "outputs": [
    {
     "name": "stdout",
     "output_type": "stream",
     "text": [
      "Integral(x**x, x)\n"
     ]
    },
    {
     "data": {
      "image/png": "[encoded data removed]",
      "text/latex": [
       "$\\displaystyle \\int x^{x}\\, dx$"
      ],
      "text/plain": [
       "⌠      \n",
       "⎮  x   \n",
       "⎮ x  dx\n",
       "⌡      "
      ]
     },
     "execution_count": 23,
     "metadata": {},
     "output_type": "execute_result"
    }
   ],
   "source": [
    "expr = integrate(x**x, x)\n",
    "print(expr)\n",
    "expr"
   ]
  },
  {
   "cell_type": "code",
   "execution_count": 25,
   "id": "30d55c66-36ee-4f5a-a507-5a646be0d799",
   "metadata": {},
   "outputs": [
    {
     "data": {
      "image/png": "[encoded data removed]",
      "text/latex": [
       "$\\displaystyle \\int \\log{\\left(x \\right)}^{2}\\, dx$"
      ],
      "text/plain": [
       "⌠           \n",
       "⎮    2      \n",
       "⎮ log (x) dx\n",
       "⌡           "
      ]
     },
     "execution_count": 25,
     "metadata": {},
     "output_type": "execute_result"
    }
   ],
   "source": [
    "expr = Integral(log(x)**2, x)\n",
    "expr"
   ]
  },
  {
   "cell_type": "code",
   "execution_count": 26,
   "id": "1b5b5248-e0d8-4623-9578-fa8a9a952d76",
   "metadata": {},
   "outputs": [
    {
     "data": {
      "image/png": "[encoded data removed]",
      "text/latex": [
       "$\\displaystyle x \\log{\\left(x \\right)}^{2} - 2 x \\log{\\left(x \\right)} + 2 x$"
      ],
      "text/plain": [
       "     2                      \n",
       "x⋅log (x) - 2⋅x⋅log(x) + 2⋅x"
      ]
     },
     "execution_count": 26,
     "metadata": {},
     "output_type": "execute_result"
    }
   ],
   "source": [
    "expr.doit()"
   ]
  },
  {
   "cell_type": "code",
   "execution_count": 27,
   "id": "210e8023-cd8e-48f4-a62d-908ce3c060c6",
   "metadata": {},
   "outputs": [
    {
     "data": {
      "image/png": "[encoded data removed]",
      "text/latex": [
       "$\\displaystyle \\int \\sin{\\left(x^{2} \\right)}\\, dx$"
      ],
      "text/plain": [
       "⌠           \n",
       "⎮    ⎛ 2⎞   \n",
       "⎮ sin⎝x ⎠ dx\n",
       "⌡           "
      ]
     },
     "execution_count": 27,
     "metadata": {},
     "output_type": "execute_result"
    }
   ],
   "source": [
    "integ = Integral(sin(x**2), x)\n",
    "integ"
   ]
  },
  {
   "cell_type": "code",
   "execution_count": 30,
   "id": "036319ac-bcb0-418c-879d-3f69e173a6b8",
   "metadata": {},
   "outputs": [
    {
     "data": {
      "image/png": "[encoded data removed]",
      "text/latex": [
       "$\\displaystyle \\frac{3 \\sqrt{2} \\sqrt{\\pi} S\\left(\\frac{\\sqrt{2} x}{\\sqrt{\\pi}}\\right) \\Gamma\\left(\\frac{3}{4}\\right)}{8 \\Gamma\\left(\\frac{7}{4}\\right)}$"
      ],
      "text/plain": [
       "         ⎛√2⋅x⎞       \n",
       "3⋅√2⋅√π⋅S⎜────⎟⋅Γ(3/4)\n",
       "         ⎝ √π ⎠       \n",
       "──────────────────────\n",
       "       8⋅Γ(7/4)       "
      ]
     },
     "execution_count": 30,
     "metadata": {},
     "output_type": "execute_result"
    }
   ],
   "source": [
    "integ.doit()"
   ]
  },
  {
   "cell_type": "markdown",
   "id": "9a139c3c-f209-40e7-9bb3-f25147546ef8",
   "metadata": {},
   "source": [
    "#### **Limits**\n",
    "*SymPy can compute symbolic limits with the limit() function.*"
   ]
  },
  {
   "cell_type": "code",
   "execution_count": 32,
   "id": "c75918e7-71eb-4a6e-a439-3d9bca3c361f",
   "metadata": {},
   "outputs": [
    {
     "data": {
      "image/png": "[encoded data removed]",
      "text/latex": [
       "$\\displaystyle 1$"
      ],
      "text/plain": [
       "1"
      ]
     },
     "execution_count": 32,
     "metadata": {},
     "output_type": "execute_result"
    }
   ],
   "source": [
    "limit(sin(x)/x,x,0)"
   ]
  },
  {
   "cell_type": "code",
   "execution_count": 33,
   "id": "b5a0dcf1-a4ac-48c4-96bd-19682ab42d7a",
   "metadata": {},
   "outputs": [
    {
     "data": {
      "image/png": "[encoded data removed]",
      "text/latex": [
       "$\\displaystyle 0$"
      ],
      "text/plain": [
       "0"
      ]
     },
     "execution_count": 33,
     "metadata": {},
     "output_type": "execute_result"
    }
   ],
   "source": [
    "limit(exp(x)-1/exp(x),x,0)"
   ]
  },
  {
   "cell_type": "code",
   "execution_count": 34,
   "id": "0cf7b75d-a5b4-445f-bee4-79f25cb6ff06",
   "metadata": {},
   "outputs": [
    {
     "data": {
      "image/png": "[encoded data removed]",
      "text/latex": [
       "$\\displaystyle 0$"
      ],
      "text/plain": [
       "0"
      ]
     },
     "execution_count": 34,
     "metadata": {},
     "output_type": "execute_result"
    }
   ],
   "source": [
    "expr = x**2/exp(x)\n",
    "expr.subs(x, oo)\n",
    "limit(expr, x, oo)"
   ]
  },
  {
   "cell_type": "code",
   "execution_count": 35,
   "id": "97c0bf6f-d68a-48d9-90a6-0ea67e746db8",
   "metadata": {},
   "outputs": [
    {
     "data": {
      "image/png": "[encoded data removed]",
      "text/latex": [
       "$\\displaystyle 0$"
      ],
      "text/plain": [
       "0"
      ]
     },
     "execution_count": 35,
     "metadata": {},
     "output_type": "execute_result"
    }
   ],
   "source": [
    "expr = Limit((cos(x) - 1)/x, x, 0)\n",
    "expr\n",
    "expr.doit()"
   ]
  },
  {
   "cell_type": "code",
   "execution_count": 36,
   "id": "8036336c-c48e-49ae-932e-719117300155",
   "metadata": {},
   "outputs": [
    {
     "data": {
      "image/png": "[encoded data removed]",
      "text/latex": [
       "$\\displaystyle 1 - \\frac{1}{\\pi^{2}}$"
      ],
      "text/plain": [
       "    1 \n",
       "1 - ──\n",
       "     2\n",
       "    π "
      ]
     },
     "execution_count": 36,
     "metadata": {},
     "output_type": "execute_result"
    }
   ],
   "source": [
    "limit(cos(2*x)-1/x**2,x,pi)"
   ]
  },
  {
   "cell_type": "code",
   "execution_count": 37,
   "id": "c3847e97-25de-4db7-9b96-a37ea9e06a85",
   "metadata": {},
   "outputs": [
    {
     "data": {
      "image/png": "[encoded data removed]",
      "text/latex": [
       "$\\displaystyle \\infty$"
      ],
      "text/plain": [
       "∞"
      ]
     },
     "execution_count": 37,
     "metadata": {},
     "output_type": "execute_result"
    }
   ],
   "source": [
    "limit(1/x, x, 0, '+')"
   ]
  },
  {
   "cell_type": "code",
   "execution_count": 38,
   "id": "4acfe414-3083-4558-892c-9ac39461c0a8",
   "metadata": {},
   "outputs": [
    {
     "data": {
      "image/png": "[encoded data removed]",
      "text/latex": [
       "$\\displaystyle -\\infty$"
      ],
      "text/plain": [
       "-∞"
      ]
     },
     "execution_count": 38,
     "metadata": {},
     "output_type": "execute_result"
    }
   ],
   "source": [
    "limit(1/x, x, 0, '-')"
   ]
  },
  {
   "cell_type": "markdown",
   "id": "9966071c-6915-45f1-bf0f-3072a245e185",
   "metadata": {},
   "source": [
    "#### **Series Expansion**"
   ]
  },
  {
   "cell_type": "code",
   "execution_count": 43,
   "id": "ac16c28d-d5a1-453a-91fc-f5863566674e",
   "metadata": {},
   "outputs": [
    {
     "data": {
      "image/png": "[encoded data removed]",
      "text/latex": [
       "$\\displaystyle 1 + x + \\frac{x^{2}}{2} + O\\left(x^{4}\\right)$"
      ],
      "text/plain": [
       "         2        \n",
       "        x     ⎛ 4⎞\n",
       "1 + x + ── + O⎝x ⎠\n",
       "        2         "
      ]
     },
     "execution_count": 43,
     "metadata": {},
     "output_type": "execute_result"
    }
   ],
   "source": [
    "expr = exp(sin(x))\n",
    "expr.series(x, 0, 4)"
   ]
  },
  {
   "cell_type": "code",
   "execution_count": 44,
   "id": "78e51b14-68a8-4834-84c6-4e9d9942a8a3",
   "metadata": {},
   "outputs": [
    {
     "data": {
      "image/png": "[encoded data removed]",
      "text/latex": [
       "$\\displaystyle -5 + \\frac{\\left(x - 6\\right)^{2}}{2} + \\frac{\\left(x - 6\\right)^{3}}{6} + \\frac{\\left(x - 6\\right)^{4}}{24} + \\frac{\\left(x - 6\\right)^{5}}{120} + x + O\\left(\\left(x - 6\\right)^{6}; x\\rightarrow 6\\right)$"
      ],
      "text/plain": [
       "            2          3          4          5                         \n",
       "     (x - 6)    (x - 6)    (x - 6)    (x - 6)         ⎛       6       ⎞\n",
       "-5 + ──────── + ──────── + ──────── + ──────── + x + O⎝(x - 6) ; x → 6⎠\n",
       "        2          6          24        120                            "
      ]
     },
     "execution_count": 44,
     "metadata": {},
     "output_type": "execute_result"
    }
   ],
   "source": [
    "exp(x - 6).series(x, x0=6)"
   ]
  },
  {
   "cell_type": "code",
   "execution_count": null,
   "id": "0af4b819-206c-415e-80ce-acbd11548167",
   "metadata": {},
   "outputs": [],
   "source": []
  }
 ],
 "metadata": {
  "kernelspec": {
   "display_name": "Python 3 (ipykernel)",
   "language": "python",
   "name": "python3"
  },
  "language_info": {
   "codemirror_mode": {
    "name": "ipython",
    "version": 3
   },
   "file_extension": ".py",
   "mimetype": "text/x-python",
   "name": "python",
   "nbconvert_exporter": "python",
   "pygments_lexer": "ipython3",
   "version": "3.12.2"
  }
 },
 "nbformat": 4,
 "nbformat_minor": 5
}
