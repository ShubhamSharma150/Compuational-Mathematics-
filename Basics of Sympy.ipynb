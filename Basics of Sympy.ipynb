{
 "cells": [
  {
   "cell_type": "markdown",
   "id": "5eb0d213-d2d5-4f8d-88e7-5f4dd9149205",
   "metadata": {},
   "source": [
    "*SymPy is an open-source Python library designed for symbolic computation, functioning as a Computer Algebra System (CAS). It enables users to perform mathematical operations symbolically, rather than numerically. SymPy is written entirely in Python*"
   ]
  },
  {
   "cell_type": "markdown",
   "id": "f35d89d6-a04e-47ba-b0f8-efa494e1283f",
   "metadata": {},
   "source": [
    "*SymPy can be installed on virtually any computer that supports Python.*\n",
    "- *pip install sympy*\n",
    "- *conda install sympy*"
   ]
  },
  {
   "cell_type": "code",
   "execution_count": 1,
   "id": "9bbb3f61-3a25-4c0d-a21d-fc516accd2bd",
   "metadata": {},
   "outputs": [],
   "source": [
    "from sympy import *"
   ]
  },
  {
   "cell_type": "code",
   "execution_count": 5,
   "id": "179e49fc-a138-4936-ab6d-a6851325c7b9",
   "metadata": {},
   "outputs": [],
   "source": [
    "x = symbols('x')\n",
    "expr = exp(x)+x**2+8*x"
   ]
  },
  {
   "cell_type": "markdown",
   "id": "b39e360b-76e1-400b-beef-118ce59342fc",
   "metadata": {},
   "source": [
    "#### **Substitution**"
   ]
  },
  {
   "cell_type": "markdown",
   "id": "f327c400-8bbb-417d-a441-f3494ebd6324",
   "metadata": {},
   "source": [
    "*One of the most common things you might want to do with a mathematical expression is substitution. Substitution replaces all instances of something in an expression with something else. It is done using the **subs()** method.*"
   ]
  },
  {
   "cell_type": "code",
   "execution_count": 9,
   "id": "873e18f8-942b-4547-926c-1cdec91587b2",
   "metadata": {},
   "outputs": [
    {
     "data": {
      "text/latex": [
       "$\\displaystyle e^{2} + 20$"
      ],
      "text/plain": [
       "exp(2) + 20"
      ]
     },
     "execution_count": 9,
     "metadata": {},
     "output_type": "execute_result"
    }
   ],
   "source": [
    "expr.subs(x,2) # Put x=2"
   ]
  },
  {
   "cell_type": "code",
   "execution_count": 10,
   "id": "9032dbca-a4b1-40ce-8bef-2eebfd4d4901",
   "metadata": {},
   "outputs": [
    {
     "data": {
      "text/latex": [
       "$\\displaystyle 27.3890560989306$"
      ],
      "text/plain": [
       "27.3890560989306"
      ]
     },
     "execution_count": 10,
     "metadata": {},
     "output_type": "execute_result"
    }
   ],
   "source": [
    "expr.subs(x,2).evalf() # numerical value"
   ]
  },
  {
   "cell_type": "markdown",
   "id": "90a374d7-5c62-4afd-8852-52120d3ea111",
   "metadata": {},
   "source": [
    "*if we choose more symbols in any expression and subsitute particular value* "
   ]
  },
  {
   "cell_type": "code",
   "execution_count": 27,
   "id": "da06a975-e00f-476c-93a8-c30ea6d69467",
   "metadata": {},
   "outputs": [
    {
     "data": {
      "text/latex": [
       "$\\displaystyle x^{3} + x y z + 4 x y - z$"
      ],
      "text/plain": [
       "x**3 + x*y*z + 4*x*y - z"
      ]
     },
     "execution_count": 27,
     "metadata": {},
     "output_type": "execute_result"
    }
   ],
   "source": [
    "x, y, z = symbols('x y z')\n",
    "expr = x**3 + 4*x*y - z + x*z*y\n",
    "expr"
   ]
  },
  {
   "cell_type": "code",
   "execution_count": 20,
   "id": "d52a44f7-9849-4a34-bd44-baa1bfa36ad0",
   "metadata": {},
   "outputs": [
    {
     "data": {
      "text/latex": [
       "$\\displaystyle 37$"
      ],
      "text/plain": [
       "37"
      ]
     },
     "execution_count": 20,
     "metadata": {},
     "output_type": "execute_result"
    }
   ],
   "source": [
    "expr.subs([(x,2),(y,3),(z,1)])"
   ]
  },
  {
   "cell_type": "code",
   "execution_count": 26,
   "id": "13be20d2-4192-4b23-a20f-bd81b5aae23b",
   "metadata": {},
   "outputs": [
    {
     "data": {
      "text/latex": [
       "$\\displaystyle 0.0874989834394464$"
      ],
      "text/plain": [
       "0.0874989834394464"
      ]
     },
     "execution_count": 26,
     "metadata": {},
     "output_type": "execute_result"
    }
   ],
   "source": [
    "expr = cos(2*x)\n",
    "expr.evalf(subs={x: 2.4})"
   ]
  },
  {
   "cell_type": "code",
   "execution_count": 31,
   "id": "90bb3936-3223-43ed-930c-f4068975dae6",
   "metadata": {},
   "outputs": [
    {
     "data": {
      "text/latex": [
       "$\\displaystyle 516.0$"
      ],
      "text/plain": [
       "516.000000000000"
      ]
     },
     "execution_count": 31,
     "metadata": {},
     "output_type": "execute_result"
    }
   ],
   "source": [
    "expr = x**4 - 4*z**3 + 4*y**2 - 2*x*y + 3\n",
    "expr.evalf(subs={x: 5,y: 2,z: 3})"
   ]
  },
  {
   "cell_type": "markdown",
   "id": "29aedb17-dfa6-42b0-9619-c457d697a2b3",
   "metadata": {},
   "source": [
    "##### **lambdify()**"
   ]
  },
  {
   "cell_type": "markdown",
   "id": "df26ba89-3e85-42ab-8a63-704a88adaeb9",
   "metadata": {},
   "source": [
    "- *subs() and evalf() are good if you want to do simple evaluation, but if you intend to evaluate an expression at many points, there are more efficient ways. For example, if you wanted to evaluate an expression at a thousand points, using SymPy would be far slower than it needs to be, especially if you only care about machine precision. Instead, you should use libraries like NumPy and SciPy*.\n",
    "- *The easiest way to convert a SymPy expression to an expression that can be numerically evaluated is to use the lambdify() function. lambdify() acts like a lambda function, except it converts the SymPy names to the names of the given numerical library, usually NumPy. For example*"
   ]
  },
  {
   "cell_type": "code",
   "execution_count": 44,
   "id": "270ead77-133d-4579-abdc-3393a4139cbe",
   "metadata": {},
   "outputs": [
    {
     "data": {
      "text/plain": [
       "array([0, 1, 2, 3, 4])"
      ]
     },
     "execution_count": 44,
     "metadata": {},
     "output_type": "execute_result"
    }
   ],
   "source": [
    "import numpy as np\n",
    "a = np.arange(5)\n",
    "a"
   ]
  },
  {
   "cell_type": "code",
   "execution_count": 43,
   "id": "bd67a68e-2e08-44ce-84fb-41811fe6f810",
   "metadata": {},
   "outputs": [
    {
     "data": {
      "text/plain": [
       "array([ 1.        ,  1.38177329,  0.49315059, -0.84887249, -1.41044612])"
      ]
     },
     "execution_count": 43,
     "metadata": {},
     "output_type": "execute_result"
    }
   ],
   "source": [
    "expr = sin(x)+cos(x)\n",
    "f = lambdify(x, expr, \"numpy\")\n",
    "f(a)"
   ]
  },
  {
   "cell_type": "markdown",
   "id": "89507eea-0b56-496d-94ec-23782ee0e700",
   "metadata": {},
   "source": [
    "##### *Setting up Pretty Printing*\n",
    "- *If all you want is the best pretty printing, use the init_printing() function. This will automatically enable the best printer available in your environment.*\n",
    "- *If you plan to work in an interactive calculator-type session, the init_session() function will automatically import everything in SymPy, create some common Symbols, setup plotting, and run init_printing()*"
   ]
  },
  {
   "cell_type": "code",
   "execution_count": 48,
   "id": "f2bfb53e-4f13-4c53-81d3-ce35e2a71bd8",
   "metadata": {},
   "outputs": [
    {
     "name": "stdout",
     "output_type": "stream",
     "text": [
      "\n"
     ]
    }
   ],
   "source": [
    "from sympy import init_session\n",
    "init_session(quiet=True)"
   ]
  },
  {
   "cell_type": "code",
   "execution_count": 52,
   "id": "ae7abbf9-fd8b-4b90-a728-f4064186f08c",
   "metadata": {},
   "outputs": [
    {
     "data": {
      "image/png": "[encoded data removed]",
      "text/latex": [
       "$\\displaystyle \\int \\sin{\\left(x \\right)}\\, dx$"
      ],
      "text/plain": [
       "⌠          \n",
       "⎮ sin(x) dx\n",
       "⌡          "
      ]
     },
     "execution_count": 52,
     "metadata": {},
     "output_type": "execute_result"
    }
   ],
   "source": [
    "from sympy import *\n",
    "x = symbols('x')\n",
    "Integral(sin(x),x)"
   ]
  },
  {
   "cell_type": "markdown",
   "id": "e382decc-bf45-410c-8d1c-a421b0850104",
   "metadata": {},
   "source": [
    "##### **simplify**\n",
    "*Now let’s jump in and do some interesting mathematics. One of the most useful features of a symbolic manipulation system is the ability to simplify mathematical expressions. SymPy has dozens of functions to perform various kinds of simplification. There is also one general function called simplify() that attempts to apply all of these functions in an intelligent way to arrive at the simplest form of an expression. Here are some examples*"
   ]
  },
  {
   "cell_type": "code",
   "execution_count": 54,
   "id": "92effb50-5f77-477a-a87c-78e5fbe1099a",
   "metadata": {},
   "outputs": [
    {
     "data": {
      "image/png": "[encoded data removed]",
      "text/latex": [
       "$\\displaystyle 1$"
      ],
      "text/plain": [
       "1"
      ]
     },
     "execution_count": 54,
     "metadata": {},
     "output_type": "execute_result"
    }
   ],
   "source": [
    "simplify(sin(x)**2 + cos(x)**2)"
   ]
  },
  {
   "cell_type": "code",
   "execution_count": 55,
   "id": "ac9959ca-2022-4783-9d07-0073d92dd026",
   "metadata": {},
   "outputs": [
    {
     "data": {
      "image/png": "[encoded data removed]",
      "text/latex": [
       "$\\displaystyle x - 1$"
      ],
      "text/plain": [
       "x - 1"
      ]
     },
     "execution_count": 55,
     "metadata": {},
     "output_type": "execute_result"
    }
   ],
   "source": [
    "simplify((x**3 + x**2 - x - 1)/(x**2 + 2*x + 1))"
   ]
  },
  {
   "cell_type": "code",
   "execution_count": 57,
   "id": "e5ff4111-d690-4c75-9af3-244cdbb241b1",
   "metadata": {},
   "outputs": [
    {
     "data": {
      "image/png": "[encoded data removed]",
      "text/latex": [
       "$\\displaystyle \\left(x - 2\\right) \\left(x - 1\\right)$"
      ],
      "text/plain": [
       "(x - 2)⋅(x - 1)"
      ]
     },
     "execution_count": 57,
     "metadata": {},
     "output_type": "execute_result"
    }
   ],
   "source": [
    "simplify(gamma(x)/gamma(x - 2)) # gamma function"
   ]
  },
  {
   "cell_type": "code",
   "execution_count": 59,
   "id": "a7832f52-32c3-4dd8-b001-8b56290390a0",
   "metadata": {},
   "outputs": [
    {
     "data": {
      "image/png": "[encoded data removed]",
      "text/latex": [
       "$\\displaystyle 6$"
      ],
      "text/plain": [
       "6"
      ]
     },
     "execution_count": 59,
     "metadata": {},
     "output_type": "execute_result"
    }
   ],
   "source": [
    "gamma(4)"
   ]
  },
  {
   "cell_type": "code",
   "execution_count": null,
   "id": "68bb7481-4413-4011-a70b-36a3abf3f426",
   "metadata": {},
   "outputs": [],
   "source": []
  }
 ],
 "metadata": {
  "kernelspec": {
   "display_name": "Python 3 (ipykernel)",
   "language": "python",
   "name": "python3"
  },
  "language_info": {
   "codemirror_mode": {
    "name": "ipython",
    "version": 3
   },
   "file_extension": ".py",
   "mimetype": "text/x-python",
   "name": "python",
   "nbconvert_exporter": "python",
   "pygments_lexer": "ipython3",
   "version": "3.12.2"
  }
 },
 "nbformat": 4,
 "nbformat_minor": 5
}
